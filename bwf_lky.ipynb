{
 "cells": [
  {
   "cell_type": "markdown",
   "id": "b69d7719",
   "metadata": {},
   "source": [
    "# Analysis on Loh Kean Yew's Meteoric Rise\n",
    "\n",
    "Inspired by Loh Kean Yew's historic achievement of being the first Singaporean to win a BWF World Championships title at the BWF World Championships 2021 held in Huelva, Spain, I wanted to do some simple analysis on his meteoric rise to the top of the badminton world."
   ]
  },
  {
   "cell_type": "markdown",
   "id": "11bfaa8a",
   "metadata": {},
   "source": [
    "## Table of Content\n",
    "\n",
    "* [Exploring Data](#chapter1)\n",
    "    * [Cleaning the Tournament Round Data](#section1.1)\n",
    "    * [Investigating Match Time](#section1.2)\n",
    "    * [Investigating Scores](#section1.3)\n",
    "    * [Transform data to make Loh Kean Yew as Player 1](#section1.4)\n",
    "    * [Formatting Win/Lose data](#section1.5)\n",
    "* [Performance Analysis](#chapter2)    \n",
    "    * [General Performance](#section2.1)\n",
    "    * [Wins and Losses](#section2.2)    \n",
    "* [Conclusion](#chapter3)     "
   ]
  },
  {
   "cell_type": "code",
   "execution_count": 1,
   "id": "a01721c3",
   "metadata": {},
   "outputs": [],
   "source": [
    "import pandas as pd\n",
    "import numpy as np\n",
    "import datetime as dt\n",
    "import matplotlib.pyplot as plt\n",
    "%matplotlib inline\n",
    "import matplotlib.style as style\n",
    "import seaborn as sns\n",
    "import re\n",
    "import math\n",
    "\n",
    "import warnings\n",
    "warnings.simplefilter(action='ignore', category=FutureWarning)\n",
    "\n",
    "pd.options.display.max_columns = None"
   ]
  },
  {
   "cell_type": "markdown",
   "id": "18d1d506",
   "metadata": {},
   "source": [
    "## Exploring Data <a class=\"anchor\" id=\"chapter1\"></a>\n",
    "\n",
    "The data was scraped from the [BWF official website](https://bwfbadminton.com/player/76115/loh-kean-yew). Of interest to us are the players data, of which we can access the tournament results and matches history. For Loh Kean Yew, we are able to gather his matches history from 2012 to 2021."
   ]
  },
  {
   "cell_type": "code",
   "execution_count": 2,
   "id": "c308468f",
   "metadata": {},
   "outputs": [],
   "source": [
    "lky = pd.read_csv('bwf_lky.csv', index_col = 0)"
   ]
  },
  {
   "cell_type": "code",
   "execution_count": 3,
   "id": "057476e3",
   "metadata": {},
   "outputs": [
    {
     "data": {
      "text/html": [
       "<div>\n",
       "<style scoped>\n",
       "    .dataframe tbody tr th:only-of-type {\n",
       "        vertical-align: middle;\n",
       "    }\n",
       "\n",
       "    .dataframe tbody tr th {\n",
       "        vertical-align: top;\n",
       "    }\n",
       "\n",
       "    .dataframe thead th {\n",
       "        text-align: right;\n",
       "    }\n",
       "</style>\n",
       "<table border=\"1\" class=\"dataframe\">\n",
       "  <thead>\n",
       "    <tr style=\"text-align: right;\">\n",
       "      <th></th>\n",
       "      <th>year</th>\n",
       "      <th>tournament</th>\n",
       "      <th>round</th>\n",
       "      <th>match_time</th>\n",
       "      <th>player1</th>\n",
       "      <th>player2</th>\n",
       "      <th>player1_set1</th>\n",
       "      <th>player2_set1</th>\n",
       "      <th>player1_set2</th>\n",
       "      <th>player2_set2</th>\n",
       "      <th>player1_set3</th>\n",
       "      <th>player2_set3</th>\n",
       "    </tr>\n",
       "  </thead>\n",
       "  <tbody>\n",
       "    <tr>\n",
       "      <th>0</th>\n",
       "      <td>2021</td>\n",
       "      <td>TotalEnergies BWF World Championships 2021</td>\n",
       "      <td>R64</td>\n",
       "      <td>0:54</td>\n",
       "      <td>LOH Kean Yew</td>\n",
       "      <td>Viktor AXELSEN</td>\n",
       "      <td>14</td>\n",
       "      <td>21</td>\n",
       "      <td>21.0</td>\n",
       "      <td>9.0</td>\n",
       "      <td>21.0</td>\n",
       "      <td>6.0</td>\n",
       "    </tr>\n",
       "    <tr>\n",
       "      <th>1</th>\n",
       "      <td>2021</td>\n",
       "      <td>TotalEnergies BWF World Championships 2021</td>\n",
       "      <td>R32</td>\n",
       "      <td>0:25</td>\n",
       "      <td>Luka WRABER</td>\n",
       "      <td>LOH Kean Yew</td>\n",
       "      <td>4</td>\n",
       "      <td>21</td>\n",
       "      <td>8.0</td>\n",
       "      <td>21.0</td>\n",
       "      <td>NaN</td>\n",
       "      <td>NaN</td>\n",
       "    </tr>\n",
       "    <tr>\n",
       "      <th>2</th>\n",
       "      <td>2021</td>\n",
       "      <td>TotalEnergies BWF World Championships 2021</td>\n",
       "      <td>R16</td>\n",
       "      <td>0:30</td>\n",
       "      <td>Kantaphon WANGCHAROEN</td>\n",
       "      <td>LOH Kean Yew</td>\n",
       "      <td>4</td>\n",
       "      <td>21</td>\n",
       "      <td>7.0</td>\n",
       "      <td>21.0</td>\n",
       "      <td>NaN</td>\n",
       "      <td>NaN</td>\n",
       "    </tr>\n",
       "    <tr>\n",
       "      <th>3</th>\n",
       "      <td>2021</td>\n",
       "      <td>TotalEnergies BWF World Championships 2021</td>\n",
       "      <td>QF</td>\n",
       "      <td>0:43</td>\n",
       "      <td>PRANNOY H. S.</td>\n",
       "      <td>LOH Kean Yew</td>\n",
       "      <td>14</td>\n",
       "      <td>21</td>\n",
       "      <td>12.0</td>\n",
       "      <td>21.0</td>\n",
       "      <td>NaN</td>\n",
       "      <td>NaN</td>\n",
       "    </tr>\n",
       "    <tr>\n",
       "      <th>4</th>\n",
       "      <td>2021</td>\n",
       "      <td>TotalEnergies BWF World Championships 2021</td>\n",
       "      <td>SF</td>\n",
       "      <td>1:01</td>\n",
       "      <td>Anders ANTONSEN</td>\n",
       "      <td>LOH Kean Yew</td>\n",
       "      <td>21</td>\n",
       "      <td>23</td>\n",
       "      <td>14.0</td>\n",
       "      <td>21.0</td>\n",
       "      <td>NaN</td>\n",
       "      <td>NaN</td>\n",
       "    </tr>\n",
       "  </tbody>\n",
       "</table>\n",
       "</div>"
      ],
      "text/plain": [
       "   year                                  tournament round match_time  \\\n",
       "0  2021  TotalEnergies BWF World Championships 2021   R64       0:54   \n",
       "1  2021  TotalEnergies BWF World Championships 2021   R32       0:25   \n",
       "2  2021  TotalEnergies BWF World Championships 2021   R16       0:30   \n",
       "3  2021  TotalEnergies BWF World Championships 2021    QF       0:43   \n",
       "4  2021  TotalEnergies BWF World Championships 2021    SF       1:01   \n",
       "\n",
       "                 player1         player2 player1_set1 player2_set1  \\\n",
       "0           LOH Kean Yew  Viktor AXELSEN           14           21   \n",
       "1            Luka WRABER    LOH Kean Yew            4           21   \n",
       "2  Kantaphon WANGCHAROEN    LOH Kean Yew            4           21   \n",
       "3          PRANNOY H. S.    LOH Kean Yew           14           21   \n",
       "4        Anders ANTONSEN    LOH Kean Yew           21           23   \n",
       "\n",
       "   player1_set2  player2_set2  player1_set3  player2_set3  \n",
       "0          21.0           9.0          21.0           6.0  \n",
       "1           8.0          21.0           NaN           NaN  \n",
       "2           7.0          21.0           NaN           NaN  \n",
       "3          12.0          21.0           NaN           NaN  \n",
       "4          14.0          21.0           NaN           NaN  "
      ]
     },
     "execution_count": 3,
     "metadata": {},
     "output_type": "execute_result"
    }
   ],
   "source": [
    "lky.head()"
   ]
  },
  {
   "cell_type": "code",
   "execution_count": 4,
   "id": "5ab829ab",
   "metadata": {},
   "outputs": [
    {
     "name": "stdout",
     "output_type": "stream",
     "text": [
      "<class 'pandas.core.frame.DataFrame'>\n",
      "Int64Index: 223 entries, 0 to 222\n",
      "Data columns (total 12 columns):\n",
      " #   Column        Non-Null Count  Dtype  \n",
      "---  ------        --------------  -----  \n",
      " 0   year          223 non-null    int64  \n",
      " 1   tournament    223 non-null    object \n",
      " 2   round         212 non-null    object \n",
      " 3   match_time    223 non-null    object \n",
      " 4   player1       223 non-null    object \n",
      " 5   player2       223 non-null    object \n",
      " 6   player1_set1  218 non-null    object \n",
      " 7   player2_set1  217 non-null    object \n",
      " 8   player1_set2  212 non-null    float64\n",
      " 9   player2_set2  214 non-null    float64\n",
      " 10  player1_set3  79 non-null     float64\n",
      " 11  player2_set3  79 non-null     float64\n",
      "dtypes: float64(4), int64(1), object(7)\n",
      "memory usage: 22.6+ KB\n"
     ]
    }
   ],
   "source": [
    "lky.info()"
   ]
  },
  {
   "cell_type": "markdown",
   "id": "69657307",
   "metadata": {},
   "source": [
    "We see that there are a total of 223 matches data. Notably, there are `null` data in `round`, `player1_set1`, `player2_set1`, `player1_set2`, `player2_set2`, `player1_set3`, `player2_set3`.\n",
    "\n",
    "We know that for example `player1_set1` refers to the first set score for player 1. There could be `null` score for some matches when there are bye/walkover. We will investigate this further.\n",
    "\n",
    "In addition, if a player had already won two straight sets, there would no need be for a third set. Hence, it is understandable why set 3 had significantly more `null` values.\n",
    "\n",
    "To summarise the required data cleaning work:\n",
    "* Check on `null` value in `round`.\n",
    "* Check on the `null` values for each of the sets.\n",
    "* Check on the discrepancy in `null` values within each set (e.g. set 1 had 218 entries for player 1 but 217 entries for player 2).\n",
    "* Transform the set score to as some are `object` and some are `float64`. Set score should be `int` type."
   ]
  },
  {
   "cell_type": "markdown",
   "id": "fa6132b8",
   "metadata": {},
   "source": [
    "## Cleaning the Tournament Round Data <a class=\"anchor\" id=\"section1.1\"></a>"
   ]
  },
  {
   "cell_type": "code",
   "execution_count": 5,
   "id": "4e905b7b",
   "metadata": {},
   "outputs": [
    {
     "data": {
      "text/plain": [
       "array(['R64', 'R32', 'R16', 'QF', 'SF', 'Final', 'Group G', 'R1', 'R2',\n",
       "       'Qual. R16', 'R3', 'Qual. QF', '3/4', 'Qual. R64', 'Qual. R32',\n",
       "       nan, 'R128'], dtype=object)"
      ]
     },
     "execution_count": 5,
     "metadata": {},
     "output_type": "execute_result"
    }
   ],
   "source": [
    "lky['round'].unique()"
   ]
  },
  {
   "cell_type": "markdown",
   "id": "cf9836ff",
   "metadata": {},
   "source": [
    "In the dataset, these are the values under `round`, which we could consider to use to replace the `null` values.\n",
    "\n",
    "Also note that there is some inconsistency in the labelling, for e.g. 'R64' vs 'Qual. R64'. We should just clean and remove 'Qual' subsequently."
   ]
  },
  {
   "cell_type": "code",
   "execution_count": 6,
   "id": "d4a72c95",
   "metadata": {},
   "outputs": [
    {
     "data": {
      "text/html": [
       "<div>\n",
       "<style scoped>\n",
       "    .dataframe tbody tr th:only-of-type {\n",
       "        vertical-align: middle;\n",
       "    }\n",
       "\n",
       "    .dataframe tbody tr th {\n",
       "        vertical-align: top;\n",
       "    }\n",
       "\n",
       "    .dataframe thead th {\n",
       "        text-align: right;\n",
       "    }\n",
       "</style>\n",
       "<table border=\"1\" class=\"dataframe\">\n",
       "  <thead>\n",
       "    <tr style=\"text-align: right;\">\n",
       "      <th></th>\n",
       "      <th>year</th>\n",
       "      <th>tournament</th>\n",
       "      <th>round</th>\n",
       "      <th>match_time</th>\n",
       "      <th>player1</th>\n",
       "      <th>player2</th>\n",
       "      <th>player1_set1</th>\n",
       "      <th>player2_set1</th>\n",
       "      <th>player1_set2</th>\n",
       "      <th>player2_set2</th>\n",
       "      <th>player1_set3</th>\n",
       "      <th>player2_set3</th>\n",
       "    </tr>\n",
       "  </thead>\n",
       "  <tbody>\n",
       "    <tr>\n",
       "      <th>135</th>\n",
       "      <td>2017</td>\n",
       "      <td>ROBOT Badminton Asia Mixed Team Championships ...</td>\n",
       "      <td>NaN</td>\n",
       "      <td>0:34</td>\n",
       "      <td>Sameer VERMA</td>\n",
       "      <td>LOH Kean Yew</td>\n",
       "      <td>21</td>\n",
       "      <td>9</td>\n",
       "      <td>21.0</td>\n",
       "      <td>16.0</td>\n",
       "      <td>NaN</td>\n",
       "      <td>NaN</td>\n",
       "    </tr>\n",
       "    <tr>\n",
       "      <th>149</th>\n",
       "      <td>2016</td>\n",
       "      <td>Happening Hyderabad Badminton Asia Team Champi...</td>\n",
       "      <td>NaN</td>\n",
       "      <td>0:40</td>\n",
       "      <td>WANG Zhengming</td>\n",
       "      <td>LOH Kean Yew</td>\n",
       "      <td>15</td>\n",
       "      <td>21</td>\n",
       "      <td>16.0</td>\n",
       "      <td>21.0</td>\n",
       "      <td>NaN</td>\n",
       "      <td>NaN</td>\n",
       "    </tr>\n",
       "    <tr>\n",
       "      <th>150</th>\n",
       "      <td>2016</td>\n",
       "      <td>Happening Hyderabad Badminton Asia Team Champi...</td>\n",
       "      <td>NaN</td>\n",
       "      <td>0:29</td>\n",
       "      <td>Ajay JAYARAM</td>\n",
       "      <td>LOH Kean Yew</td>\n",
       "      <td>21</td>\n",
       "      <td>11</td>\n",
       "      <td>21.0</td>\n",
       "      <td>18.0</td>\n",
       "      <td>NaN</td>\n",
       "      <td>NaN</td>\n",
       "    </tr>\n",
       "    <tr>\n",
       "      <th>159</th>\n",
       "      <td>2015</td>\n",
       "      <td>World Junior Mixed Team Championships 2015</td>\n",
       "      <td>NaN</td>\n",
       "      <td>0:21</td>\n",
       "      <td>LOH Kean Yew</td>\n",
       "      <td>James ELLAWAY</td>\n",
       "      <td>21</td>\n",
       "      <td>12</td>\n",
       "      <td>21.0</td>\n",
       "      <td>8.0</td>\n",
       "      <td>NaN</td>\n",
       "      <td>NaN</td>\n",
       "    </tr>\n",
       "    <tr>\n",
       "      <th>160</th>\n",
       "      <td>2015</td>\n",
       "      <td>World Junior Mixed Team Championships 2015</td>\n",
       "      <td>NaN</td>\n",
       "      <td>0:16</td>\n",
       "      <td>LOH Kean Yew</td>\n",
       "      <td>Diego CASTILLO</td>\n",
       "      <td>21</td>\n",
       "      <td>5</td>\n",
       "      <td>21.0</td>\n",
       "      <td>11.0</td>\n",
       "      <td>NaN</td>\n",
       "      <td>NaN</td>\n",
       "    </tr>\n",
       "    <tr>\n",
       "      <th>161</th>\n",
       "      <td>2015</td>\n",
       "      <td>World Junior Mixed Team Championships 2015</td>\n",
       "      <td>NaN</td>\n",
       "      <td>0:34</td>\n",
       "      <td>Firman Abdul KHOLIK</td>\n",
       "      <td>LOH Kean Yew</td>\n",
       "      <td>21</td>\n",
       "      <td>10</td>\n",
       "      <td>21.0</td>\n",
       "      <td>14.0</td>\n",
       "      <td>NaN</td>\n",
       "      <td>NaN</td>\n",
       "    </tr>\n",
       "    <tr>\n",
       "      <th>162</th>\n",
       "      <td>2015</td>\n",
       "      <td>World Junior Mixed Team Championships 2015</td>\n",
       "      <td>NaN</td>\n",
       "      <td>0:21</td>\n",
       "      <td>LOH Kean Yew</td>\n",
       "      <td>Manuel BREA FILLOY</td>\n",
       "      <td>21</td>\n",
       "      <td>9</td>\n",
       "      <td>21.0</td>\n",
       "      <td>14.0</td>\n",
       "      <td>NaN</td>\n",
       "      <td>NaN</td>\n",
       "    </tr>\n",
       "    <tr>\n",
       "      <th>163</th>\n",
       "      <td>2015</td>\n",
       "      <td>World Junior Mixed Team Championships 2015</td>\n",
       "      <td>NaN</td>\n",
       "      <td>0:22</td>\n",
       "      <td>Felix HAMMES</td>\n",
       "      <td>LOH Kean Yew</td>\n",
       "      <td>12</td>\n",
       "      <td>21</td>\n",
       "      <td>12.0</td>\n",
       "      <td>21.0</td>\n",
       "      <td>NaN</td>\n",
       "      <td>NaN</td>\n",
       "    </tr>\n",
       "    <tr>\n",
       "      <th>177</th>\n",
       "      <td>2015</td>\n",
       "      <td>SCG Badminton Asia Junior Championships 2015</td>\n",
       "      <td>NaN</td>\n",
       "      <td>0:35</td>\n",
       "      <td>LOH Kean Yew</td>\n",
       "      <td>Satheishtharan RAMACHANDRAN</td>\n",
       "      <td>19</td>\n",
       "      <td>21</td>\n",
       "      <td>12.0</td>\n",
       "      <td>21.0</td>\n",
       "      <td>NaN</td>\n",
       "      <td>NaN</td>\n",
       "    </tr>\n",
       "    <tr>\n",
       "      <th>178</th>\n",
       "      <td>2015</td>\n",
       "      <td>SCG Badminton Asia Junior Championships 2015</td>\n",
       "      <td>NaN</td>\n",
       "      <td>0:39</td>\n",
       "      <td>Seung Hoon LEE</td>\n",
       "      <td>LOH Kean Yew</td>\n",
       "      <td>17</td>\n",
       "      <td>21</td>\n",
       "      <td>17.0</td>\n",
       "      <td>21.0</td>\n",
       "      <td>NaN</td>\n",
       "      <td>NaN</td>\n",
       "    </tr>\n",
       "    <tr>\n",
       "      <th>179</th>\n",
       "      <td>2015</td>\n",
       "      <td>VIVO BWF Sudirman Cup 2015</td>\n",
       "      <td>NaN</td>\n",
       "      <td>0:32</td>\n",
       "      <td>LOH Kean Yew</td>\n",
       "      <td>Andrew D'SOUZA</td>\n",
       "      <td>21</td>\n",
       "      <td>12</td>\n",
       "      <td>21.0</td>\n",
       "      <td>19.0</td>\n",
       "      <td>NaN</td>\n",
       "      <td>NaN</td>\n",
       "    </tr>\n",
       "  </tbody>\n",
       "</table>\n",
       "</div>"
      ],
      "text/plain": [
       "     year                                         tournament round match_time  \\\n",
       "135  2017  ROBOT Badminton Asia Mixed Team Championships ...   NaN       0:34   \n",
       "149  2016  Happening Hyderabad Badminton Asia Team Champi...   NaN       0:40   \n",
       "150  2016  Happening Hyderabad Badminton Asia Team Champi...   NaN       0:29   \n",
       "159  2015         World Junior Mixed Team Championships 2015   NaN       0:21   \n",
       "160  2015         World Junior Mixed Team Championships 2015   NaN       0:16   \n",
       "161  2015         World Junior Mixed Team Championships 2015   NaN       0:34   \n",
       "162  2015         World Junior Mixed Team Championships 2015   NaN       0:21   \n",
       "163  2015         World Junior Mixed Team Championships 2015   NaN       0:22   \n",
       "177  2015       SCG Badminton Asia Junior Championships 2015   NaN       0:35   \n",
       "178  2015       SCG Badminton Asia Junior Championships 2015   NaN       0:39   \n",
       "179  2015                         VIVO BWF Sudirman Cup 2015   NaN       0:32   \n",
       "\n",
       "                 player1                      player2 player1_set1  \\\n",
       "135         Sameer VERMA                 LOH Kean Yew           21   \n",
       "149       WANG Zhengming                 LOH Kean Yew           15   \n",
       "150         Ajay JAYARAM                 LOH Kean Yew           21   \n",
       "159         LOH Kean Yew                James ELLAWAY           21   \n",
       "160         LOH Kean Yew               Diego CASTILLO           21   \n",
       "161  Firman Abdul KHOLIK                 LOH Kean Yew           21   \n",
       "162         LOH Kean Yew           Manuel BREA FILLOY           21   \n",
       "163         Felix HAMMES                 LOH Kean Yew           12   \n",
       "177         LOH Kean Yew  Satheishtharan RAMACHANDRAN           19   \n",
       "178       Seung Hoon LEE                 LOH Kean Yew           17   \n",
       "179         LOH Kean Yew               Andrew D'SOUZA           21   \n",
       "\n",
       "    player2_set1  player1_set2  player2_set2  player1_set3  player2_set3  \n",
       "135            9          21.0          16.0           NaN           NaN  \n",
       "149           21          16.0          21.0           NaN           NaN  \n",
       "150           11          21.0          18.0           NaN           NaN  \n",
       "159           12          21.0           8.0           NaN           NaN  \n",
       "160            5          21.0          11.0           NaN           NaN  \n",
       "161           10          21.0          14.0           NaN           NaN  \n",
       "162            9          21.0          14.0           NaN           NaN  \n",
       "163           21          12.0          21.0           NaN           NaN  \n",
       "177           21          12.0          21.0           NaN           NaN  \n",
       "178           21          17.0          21.0           NaN           NaN  \n",
       "179           12          21.0          19.0           NaN           NaN  "
      ]
     },
     "execution_count": 6,
     "metadata": {},
     "output_type": "execute_result"
    }
   ],
   "source": [
    "lky[lky['round'].isnull()]"
   ]
  },
  {
   "cell_type": "markdown",
   "id": "8997da1c",
   "metadata": {},
   "source": [
    "We notice that `round` with `null` value usually occurs for a select few tournaments:\n",
    "* ROBOT Badminton Asia Mixed Team Championships 2017\n",
    "* Happening Hyderabad Badminton Asia Team Championships 2016\n",
    "* World Junior Mixed Team Championships 2015\n",
    "* SCG Badminton Asia Junior Championships 2015\n",
    "* VIVO BWF Sudirman Cup 2015\n",
    "\n",
    "We will do a cross check to understand more about the above few tournaments and decide how to manage these `null` values.\n",
    "\n",
    "* For the [ROBOT Badminton Asia Mixed Team Championships 2017](https://en.wikipedia.org/wiki/2017_Badminton_Asia_Mixed_Team_Championships), Singapore was eliminated at Singapore was eliminated at the Group stage and did not progress to the knockout stage. We can label this match as Group.\n",
    "\n",
    "\n",
    "* For the [Happening Hyderabad Badminton Asia Team Championships 2016](https://en.wikipedia.org/wiki/2016_Badminton_Asia_Team_Championships), Singapore was eliminated at the Group stage and did not progress to the knockout stage. We can label these matches as Group.\n",
    "\n",
    "\n",
    "* For the [World Junior Mixed Team Championships 2015](https://en.wikipedia.org/wiki/2015_BWF_World_Junior_Championships_%E2%80%93_Teams_event), is the Teams event of the 2015 BWF World Junior Championships. Singapore achieved a final team ranking of 11th place. As it is not a typical playoff format, we will label these matches as Group or remove them altogether.\n",
    "\n",
    "\n",
    "* For the [SCG Badminton Asia Junior Championships 2015](https://en.wikipedia.org/wiki/2015_Badminton_Asia_Junior_Championships), Loh Kean Yew made it to the fourth round before elimination. This was before progression to the quarter-finals, hence we can label this as the Round of 32.\n",
    "\n",
    "\n",
    "* For the [VIVO BWF Sudirman Cup 2015](https://en.wikipedia.org/wiki/Sudirman_Cup), Sudirman Cup is a unique international competition that does not stage a qualification round. The competing teams are divided into 7 groups based on their performances. Only teams in Group 1 will have a chance to lift the trophy as the teams in other groups fight for promotion. Singapore was eliminated after Round 1. Hence, we can possibly label this match round as Group."
   ]
  },
  {
   "cell_type": "markdown",
   "id": "fd9de2b7",
   "metadata": {},
   "source": [
    "### Replacing the `null` values with the decided appropriate values"
   ]
  },
  {
   "cell_type": "code",
   "execution_count": 7,
   "id": "629d57cf",
   "metadata": {},
   "outputs": [
    {
     "data": {
      "text/plain": [
       "array(['R64', 'R32', 'R16', 'QF', 'SF', 'Final', 'Group G', 'R1', 'R2',\n",
       "       'Qual. R16', 'R3', 'Qual. QF', '3/4', 'Qual. R64', 'Qual. R32',\n",
       "       nan, 'R128'], dtype=object)"
      ]
     },
     "execution_count": 7,
     "metadata": {},
     "output_type": "execute_result"
    }
   ],
   "source": [
    "lky['round'].unique()"
   ]
  },
  {
   "cell_type": "code",
   "execution_count": 8,
   "id": "9fabf444",
   "metadata": {},
   "outputs": [],
   "source": [
    "lky.loc[177:178,'round'] = 'R32'"
   ]
  },
  {
   "cell_type": "code",
   "execution_count": 9,
   "id": "8d8ba8be",
   "metadata": {},
   "outputs": [
    {
     "data": {
      "text/html": [
       "<div>\n",
       "<style scoped>\n",
       "    .dataframe tbody tr th:only-of-type {\n",
       "        vertical-align: middle;\n",
       "    }\n",
       "\n",
       "    .dataframe tbody tr th {\n",
       "        vertical-align: top;\n",
       "    }\n",
       "\n",
       "    .dataframe thead th {\n",
       "        text-align: right;\n",
       "    }\n",
       "</style>\n",
       "<table border=\"1\" class=\"dataframe\">\n",
       "  <thead>\n",
       "    <tr style=\"text-align: right;\">\n",
       "      <th></th>\n",
       "      <th>year</th>\n",
       "      <th>tournament</th>\n",
       "      <th>round</th>\n",
       "      <th>match_time</th>\n",
       "      <th>player1</th>\n",
       "      <th>player2</th>\n",
       "      <th>player1_set1</th>\n",
       "      <th>player2_set1</th>\n",
       "      <th>player1_set2</th>\n",
       "      <th>player2_set2</th>\n",
       "      <th>player1_set3</th>\n",
       "      <th>player2_set3</th>\n",
       "    </tr>\n",
       "  </thead>\n",
       "  <tbody>\n",
       "    <tr>\n",
       "      <th>177</th>\n",
       "      <td>2015</td>\n",
       "      <td>SCG Badminton Asia Junior Championships 2015</td>\n",
       "      <td>R32</td>\n",
       "      <td>0:35</td>\n",
       "      <td>LOH Kean Yew</td>\n",
       "      <td>Satheishtharan RAMACHANDRAN</td>\n",
       "      <td>19</td>\n",
       "      <td>21</td>\n",
       "      <td>12.0</td>\n",
       "      <td>21.0</td>\n",
       "      <td>NaN</td>\n",
       "      <td>NaN</td>\n",
       "    </tr>\n",
       "    <tr>\n",
       "      <th>178</th>\n",
       "      <td>2015</td>\n",
       "      <td>SCG Badminton Asia Junior Championships 2015</td>\n",
       "      <td>R32</td>\n",
       "      <td>0:39</td>\n",
       "      <td>Seung Hoon LEE</td>\n",
       "      <td>LOH Kean Yew</td>\n",
       "      <td>17</td>\n",
       "      <td>21</td>\n",
       "      <td>17.0</td>\n",
       "      <td>21.0</td>\n",
       "      <td>NaN</td>\n",
       "      <td>NaN</td>\n",
       "    </tr>\n",
       "  </tbody>\n",
       "</table>\n",
       "</div>"
      ],
      "text/plain": [
       "     year                                    tournament round match_time  \\\n",
       "177  2015  SCG Badminton Asia Junior Championships 2015   R32       0:35   \n",
       "178  2015  SCG Badminton Asia Junior Championships 2015   R32       0:39   \n",
       "\n",
       "            player1                      player2 player1_set1 player2_set1  \\\n",
       "177    LOH Kean Yew  Satheishtharan RAMACHANDRAN           19           21   \n",
       "178  Seung Hoon LEE                 LOH Kean Yew           17           21   \n",
       "\n",
       "     player1_set2  player2_set2  player1_set3  player2_set3  \n",
       "177          12.0          21.0           NaN           NaN  \n",
       "178          17.0          21.0           NaN           NaN  "
      ]
     },
     "execution_count": 9,
     "metadata": {},
     "output_type": "execute_result"
    }
   ],
   "source": [
    "lky.loc[177:178]"
   ]
  },
  {
   "cell_type": "code",
   "execution_count": 10,
   "id": "bf7cb63a",
   "metadata": {},
   "outputs": [
    {
     "data": {
      "text/plain": [
       "[135, 149, 150, 159, 160, 161, 162, 163, 179]"
      ]
     },
     "execution_count": 10,
     "metadata": {},
     "output_type": "execute_result"
    }
   ],
   "source": [
    "#getting the list of row index that have null value in round\n",
    "round_null = lky[lky['round'].isnull()].index.tolist()\n",
    "round_null"
   ]
  },
  {
   "cell_type": "code",
   "execution_count": 11,
   "id": "36cd2552",
   "metadata": {},
   "outputs": [],
   "source": [
    "lky.loc[round_null, 'round'] = 'Group'"
   ]
  },
  {
   "cell_type": "markdown",
   "id": "5e6d87cf",
   "metadata": {},
   "source": [
    "### Cleaning up values with discrepancies\n",
    "\n",
    "Now that are done with cleaning up the `null` values, there are a few additional steps to check and clean up\n",
    "1. All group-related round should be designed as just 'Group'. E.g. To convert 'Group G' to 'Group'.\n",
    "2. Remove 'Qual', for example from 'Qual. QF' and keep just 'QF'.\n",
    "3. Check on what is 'R1', 'R2' and '3/4' and clean them up accordingly"
   ]
  },
  {
   "cell_type": "code",
   "execution_count": 12,
   "id": "f7b5e229",
   "metadata": {},
   "outputs": [
    {
     "data": {
      "text/plain": [
       "array(['R64', 'R32', 'R16', 'QF', 'SF', 'Final', 'Group G', 'R1', 'R2',\n",
       "       'Qual. R16', 'R3', 'Qual. QF', '3/4', 'Qual. R64', 'Qual. R32',\n",
       "       'Group', 'R128'], dtype=object)"
      ]
     },
     "execution_count": 12,
     "metadata": {},
     "output_type": "execute_result"
    }
   ],
   "source": [
    "lky['round'].unique()"
   ]
  },
  {
   "cell_type": "code",
   "execution_count": 13,
   "id": "bcc574eb",
   "metadata": {},
   "outputs": [
    {
     "data": {
      "text/plain": [
       "R32          54\n",
       "R64          43\n",
       "R16          35\n",
       "QF           22\n",
       "SF           15\n",
       "Final        14\n",
       "Qual. R16    11\n",
       "Group         9\n",
       "R1            5\n",
       "Qual. QF      3\n",
       "R3            3\n",
       "Qual. R32     2\n",
       "Group G       2\n",
       "R2            2\n",
       "Qual. R64     1\n",
       "R128          1\n",
       "3/4           1\n",
       "Name: round, dtype: int64"
      ]
     },
     "execution_count": 13,
     "metadata": {},
     "output_type": "execute_result"
    }
   ],
   "source": [
    "lky['round'].value_counts()"
   ]
  },
  {
   "cell_type": "markdown",
   "id": "534e1622",
   "metadata": {},
   "source": [
    "#### Step 1: Convert Group-Related Round"
   ]
  },
  {
   "cell_type": "code",
   "execution_count": 14,
   "id": "39f9df6c",
   "metadata": {},
   "outputs": [
    {
     "data": {
      "text/html": [
       "<div>\n",
       "<style scoped>\n",
       "    .dataframe tbody tr th:only-of-type {\n",
       "        vertical-align: middle;\n",
       "    }\n",
       "\n",
       "    .dataframe tbody tr th {\n",
       "        vertical-align: top;\n",
       "    }\n",
       "\n",
       "    .dataframe thead th {\n",
       "        text-align: right;\n",
       "    }\n",
       "</style>\n",
       "<table border=\"1\" class=\"dataframe\">\n",
       "  <thead>\n",
       "    <tr style=\"text-align: right;\">\n",
       "      <th></th>\n",
       "      <th>year</th>\n",
       "      <th>tournament</th>\n",
       "      <th>round</th>\n",
       "      <th>match_time</th>\n",
       "      <th>player1</th>\n",
       "      <th>player2</th>\n",
       "      <th>player1_set1</th>\n",
       "      <th>player2_set1</th>\n",
       "      <th>player1_set2</th>\n",
       "      <th>player2_set2</th>\n",
       "      <th>player1_set3</th>\n",
       "      <th>player2_set3</th>\n",
       "    </tr>\n",
       "  </thead>\n",
       "  <tbody>\n",
       "    <tr>\n",
       "      <th>26</th>\n",
       "      <td>2021</td>\n",
       "      <td>Tokyo 2020 Olympic Games Badminton</td>\n",
       "      <td>Group G</td>\n",
       "      <td>0:33</td>\n",
       "      <td>LOH Kean Yew</td>\n",
       "      <td>Aram MAHMOUD</td>\n",
       "      <td>21</td>\n",
       "      <td>15</td>\n",
       "      <td>21.0</td>\n",
       "      <td>12.0</td>\n",
       "      <td>NaN</td>\n",
       "      <td>NaN</td>\n",
       "    </tr>\n",
       "    <tr>\n",
       "      <th>27</th>\n",
       "      <td>2021</td>\n",
       "      <td>Tokyo 2020 Olympic Games Badminton</td>\n",
       "      <td>Group G</td>\n",
       "      <td>1:08</td>\n",
       "      <td>Jonatan CHRISTIE</td>\n",
       "      <td>LOH Kean Yew</td>\n",
       "      <td>22</td>\n",
       "      <td>20</td>\n",
       "      <td>13.0</td>\n",
       "      <td>21.0</td>\n",
       "      <td>21.0</td>\n",
       "      <td>18.0</td>\n",
       "    </tr>\n",
       "  </tbody>\n",
       "</table>\n",
       "</div>"
      ],
      "text/plain": [
       "    year                          tournament    round match_time  \\\n",
       "26  2021  Tokyo 2020 Olympic Games Badminton  Group G       0:33   \n",
       "27  2021  Tokyo 2020 Olympic Games Badminton  Group G       1:08   \n",
       "\n",
       "             player1       player2 player1_set1 player2_set1  player1_set2  \\\n",
       "26      LOH Kean Yew  Aram MAHMOUD           21           15          21.0   \n",
       "27  Jonatan CHRISTIE  LOH Kean Yew           22           20          13.0   \n",
       "\n",
       "    player2_set2  player1_set3  player2_set3  \n",
       "26          12.0           NaN           NaN  \n",
       "27          21.0          21.0          18.0  "
      ]
     },
     "execution_count": 14,
     "metadata": {},
     "output_type": "execute_result"
    }
   ],
   "source": [
    "lky[lky['round'] == 'Group G']"
   ]
  },
  {
   "cell_type": "code",
   "execution_count": 15,
   "id": "3ff26d0b",
   "metadata": {},
   "outputs": [],
   "source": [
    "lky.loc[26:27, 'round'] = 'Group'"
   ]
  },
  {
   "cell_type": "markdown",
   "id": "16b684d1",
   "metadata": {},
   "source": [
    "#### Step 2: Remove 'Qual'"
   ]
  },
  {
   "cell_type": "code",
   "execution_count": 16,
   "id": "bdca3ae4",
   "metadata": {},
   "outputs": [],
   "source": [
    "lky['round'] = lky['round'].str.replace(\"Qual. \", \"\")"
   ]
  },
  {
   "cell_type": "markdown",
   "id": "bba57005",
   "metadata": {},
   "source": [
    "#### Step 3: Investigate Anomalies"
   ]
  },
  {
   "cell_type": "code",
   "execution_count": 17,
   "id": "b85fa65f",
   "metadata": {},
   "outputs": [
    {
     "data": {
      "text/html": [
       "<div>\n",
       "<style scoped>\n",
       "    .dataframe tbody tr th:only-of-type {\n",
       "        vertical-align: middle;\n",
       "    }\n",
       "\n",
       "    .dataframe tbody tr th {\n",
       "        vertical-align: top;\n",
       "    }\n",
       "\n",
       "    .dataframe thead th {\n",
       "        text-align: right;\n",
       "    }\n",
       "</style>\n",
       "<table border=\"1\" class=\"dataframe\">\n",
       "  <thead>\n",
       "    <tr style=\"text-align: right;\">\n",
       "      <th></th>\n",
       "      <th>year</th>\n",
       "      <th>tournament</th>\n",
       "      <th>round</th>\n",
       "      <th>match_time</th>\n",
       "      <th>player1</th>\n",
       "      <th>player2</th>\n",
       "      <th>player1_set1</th>\n",
       "      <th>player2_set1</th>\n",
       "      <th>player1_set2</th>\n",
       "      <th>player2_set2</th>\n",
       "      <th>player1_set3</th>\n",
       "      <th>player2_set3</th>\n",
       "    </tr>\n",
       "  </thead>\n",
       "  <tbody>\n",
       "    <tr>\n",
       "      <th>31</th>\n",
       "      <td>2020</td>\n",
       "      <td>Badminton Asia Team Championships 2020</td>\n",
       "      <td>R1</td>\n",
       "      <td>0:26</td>\n",
       "      <td>LOH Kean Yew</td>\n",
       "      <td>Ros Leonard PEDROSA</td>\n",
       "      <td>21</td>\n",
       "      <td>11</td>\n",
       "      <td>21.0</td>\n",
       "      <td>8.0</td>\n",
       "      <td>NaN</td>\n",
       "      <td>NaN</td>\n",
       "    </tr>\n",
       "    <tr>\n",
       "      <th>32</th>\n",
       "      <td>2020</td>\n",
       "      <td>Badminton Asia Team Championships 2020</td>\n",
       "      <td>R2</td>\n",
       "      <td>0:41</td>\n",
       "      <td>CHOU Tien Chen</td>\n",
       "      <td>LOH Kean Yew</td>\n",
       "      <td>16</td>\n",
       "      <td>21</td>\n",
       "      <td>17.0</td>\n",
       "      <td>21.0</td>\n",
       "      <td>NaN</td>\n",
       "      <td>NaN</td>\n",
       "    </tr>\n",
       "    <tr>\n",
       "      <th>60</th>\n",
       "      <td>2019</td>\n",
       "      <td>TOTAL BWF Sudirman Cup 2019</td>\n",
       "      <td>R1</td>\n",
       "      <td>0:36</td>\n",
       "      <td>Brian YANG</td>\n",
       "      <td>LOH Kean Yew</td>\n",
       "      <td>18</td>\n",
       "      <td>21</td>\n",
       "      <td>15.0</td>\n",
       "      <td>21.0</td>\n",
       "      <td>NaN</td>\n",
       "      <td>NaN</td>\n",
       "    </tr>\n",
       "    <tr>\n",
       "      <th>61</th>\n",
       "      <td>2019</td>\n",
       "      <td>TOTAL BWF Sudirman Cup 2019</td>\n",
       "      <td>R3</td>\n",
       "      <td>0:38</td>\n",
       "      <td>Alexander ROOVERS</td>\n",
       "      <td>LOH Kean Yew</td>\n",
       "      <td>13</td>\n",
       "      <td>21</td>\n",
       "      <td>16.0</td>\n",
       "      <td>21.0</td>\n",
       "      <td>NaN</td>\n",
       "      <td>NaN</td>\n",
       "    </tr>\n",
       "    <tr>\n",
       "      <th>62</th>\n",
       "      <td>2019</td>\n",
       "      <td>TOTAL BWF Sudirman Cup 2019</td>\n",
       "      <td>R1</td>\n",
       "      <td>1:02</td>\n",
       "      <td>Tien Minh NGUYEN</td>\n",
       "      <td>LOH Kean Yew</td>\n",
       "      <td>21</td>\n",
       "      <td>16</td>\n",
       "      <td>18.0</td>\n",
       "      <td>21.0</td>\n",
       "      <td>21.0</td>\n",
       "      <td>23.0</td>\n",
       "    </tr>\n",
       "    <tr>\n",
       "      <th>66</th>\n",
       "      <td>2019</td>\n",
       "      <td>Tong Yun Kai Cup 2019</td>\n",
       "      <td>R3</td>\n",
       "      <td>0:55</td>\n",
       "      <td>WANG Tzu Wei</td>\n",
       "      <td>LOH Kean Yew</td>\n",
       "      <td>21</td>\n",
       "      <td>15</td>\n",
       "      <td>13.0</td>\n",
       "      <td>21.0</td>\n",
       "      <td>13.0</td>\n",
       "      <td>21.0</td>\n",
       "    </tr>\n",
       "    <tr>\n",
       "      <th>67</th>\n",
       "      <td>2019</td>\n",
       "      <td>Tong Yun Kai Cup 2019</td>\n",
       "      <td>R1</td>\n",
       "      <td>0:53</td>\n",
       "      <td>PRANNOY H. S.</td>\n",
       "      <td>LOH Kean Yew</td>\n",
       "      <td>21</td>\n",
       "      <td>8</td>\n",
       "      <td>12.0</td>\n",
       "      <td>21.0</td>\n",
       "      <td>21.0</td>\n",
       "      <td>17.0</td>\n",
       "    </tr>\n",
       "    <tr>\n",
       "      <th>113</th>\n",
       "      <td>2018</td>\n",
       "      <td>2018 Commonwealth Games</td>\n",
       "      <td>R2</td>\n",
       "      <td>0:30</td>\n",
       "      <td>LOH Kean Yew</td>\n",
       "      <td>Georges Julien PAUL</td>\n",
       "      <td>21</td>\n",
       "      <td>14</td>\n",
       "      <td>21.0</td>\n",
       "      <td>15.0</td>\n",
       "      <td>NaN</td>\n",
       "      <td>NaN</td>\n",
       "    </tr>\n",
       "    <tr>\n",
       "      <th>116</th>\n",
       "      <td>2018</td>\n",
       "      <td>2018 Commonwealth Games</td>\n",
       "      <td>3/4</td>\n",
       "      <td>1:07</td>\n",
       "      <td>LOH Kean Yew</td>\n",
       "      <td>Rajiv OUSEPH</td>\n",
       "      <td>22</td>\n",
       "      <td>20</td>\n",
       "      <td>15.0</td>\n",
       "      <td>21.0</td>\n",
       "      <td>23.0</td>\n",
       "      <td>25.0</td>\n",
       "    </tr>\n",
       "    <tr>\n",
       "      <th>144</th>\n",
       "      <td>2016</td>\n",
       "      <td>Dong Feng Citroen Badminton Asia Championships...</td>\n",
       "      <td>R1</td>\n",
       "      <td>0:20</td>\n",
       "      <td>LOH Kean Yew</td>\n",
       "      <td>Pang Fong PUI</td>\n",
       "      <td>21</td>\n",
       "      <td>10</td>\n",
       "      <td>21.0</td>\n",
       "      <td>8.0</td>\n",
       "      <td>NaN</td>\n",
       "      <td>NaN</td>\n",
       "    </tr>\n",
       "    <tr>\n",
       "      <th>145</th>\n",
       "      <td>2016</td>\n",
       "      <td>Dong Feng Citroen Badminton Asia Championships...</td>\n",
       "      <td>R3</td>\n",
       "      <td>0:25</td>\n",
       "      <td>LOH Kean Yew</td>\n",
       "      <td>Artyom SAVATYUGIN</td>\n",
       "      <td>21</td>\n",
       "      <td>14</td>\n",
       "      <td>21.0</td>\n",
       "      <td>11.0</td>\n",
       "      <td>NaN</td>\n",
       "      <td>NaN</td>\n",
       "    </tr>\n",
       "  </tbody>\n",
       "</table>\n",
       "</div>"
      ],
      "text/plain": [
       "     year                                         tournament round match_time  \\\n",
       "31   2020             Badminton Asia Team Championships 2020    R1       0:26   \n",
       "32   2020             Badminton Asia Team Championships 2020    R2       0:41   \n",
       "60   2019                        TOTAL BWF Sudirman Cup 2019    R1       0:36   \n",
       "61   2019                        TOTAL BWF Sudirman Cup 2019    R3       0:38   \n",
       "62   2019                        TOTAL BWF Sudirman Cup 2019    R1       1:02   \n",
       "66   2019                              Tong Yun Kai Cup 2019    R3       0:55   \n",
       "67   2019                              Tong Yun Kai Cup 2019    R1       0:53   \n",
       "113  2018                            2018 Commonwealth Games    R2       0:30   \n",
       "116  2018                            2018 Commonwealth Games   3/4       1:07   \n",
       "144  2016  Dong Feng Citroen Badminton Asia Championships...    R1       0:20   \n",
       "145  2016  Dong Feng Citroen Badminton Asia Championships...    R3       0:25   \n",
       "\n",
       "               player1              player2 player1_set1 player2_set1  \\\n",
       "31        LOH Kean Yew  Ros Leonard PEDROSA           21           11   \n",
       "32      CHOU Tien Chen         LOH Kean Yew           16           21   \n",
       "60          Brian YANG         LOH Kean Yew           18           21   \n",
       "61   Alexander ROOVERS         LOH Kean Yew           13           21   \n",
       "62    Tien Minh NGUYEN         LOH Kean Yew           21           16   \n",
       "66        WANG Tzu Wei         LOH Kean Yew           21           15   \n",
       "67       PRANNOY H. S.         LOH Kean Yew           21            8   \n",
       "113       LOH Kean Yew  Georges Julien PAUL           21           14   \n",
       "116       LOH Kean Yew         Rajiv OUSEPH           22           20   \n",
       "144       LOH Kean Yew        Pang Fong PUI           21           10   \n",
       "145       LOH Kean Yew    Artyom SAVATYUGIN           21           14   \n",
       "\n",
       "     player1_set2  player2_set2  player1_set3  player2_set3  \n",
       "31           21.0           8.0           NaN           NaN  \n",
       "32           17.0          21.0           NaN           NaN  \n",
       "60           15.0          21.0           NaN           NaN  \n",
       "61           16.0          21.0           NaN           NaN  \n",
       "62           18.0          21.0          21.0          23.0  \n",
       "66           13.0          21.0          13.0          21.0  \n",
       "67           12.0          21.0          21.0          17.0  \n",
       "113          21.0          15.0           NaN           NaN  \n",
       "116          15.0          21.0          23.0          25.0  \n",
       "144          21.0           8.0           NaN           NaN  \n",
       "145          21.0          11.0           NaN           NaN  "
      ]
     },
     "execution_count": 17,
     "metadata": {},
     "output_type": "execute_result"
    }
   ],
   "source": [
    "#The following are anomalies: R1, R3, R2, 3/4\n",
    "\n",
    "lky[lky['round'].isin(['R1', 'R3', 'R2', '3/4'])]"
   ]
  },
  {
   "cell_type": "markdown",
   "id": "f1f6a948",
   "metadata": {},
   "source": [
    "The Badminton Asia Team Championships 2020, TOTAL BWF Sudirman Cup 2019, and Tong Yun Kai Cup 2019 are all team championships and the R1/R2/R3 represents the Group stage.\n",
    "\n",
    "For Dong Feng Citroen Badminton Asia Championships 2016, R1 and R3 are the round robin matches in the Group stage.\n",
    "\n",
    "For 2018 Commonwealth Games, R2 represents the Group stage, while 3/4 represents the 3rd/4th placing playoffs. Since there is only one instance in our tournament data, we will tag it similar to a semi-final (SF)."
   ]
  },
  {
   "cell_type": "code",
   "execution_count": 18,
   "id": "59e260fe",
   "metadata": {},
   "outputs": [],
   "source": [
    "lky['round'] = lky['round'].str.replace(r\"R1$\", \"Group\")\n",
    "lky['round'] = lky['round'].str.replace(r\"R2$\", \"Group\")\n",
    "lky['round'] = lky['round'].str.replace(r\"R3$\", \"Group\")"
   ]
  },
  {
   "cell_type": "code",
   "execution_count": 19,
   "id": "a7b7073a",
   "metadata": {},
   "outputs": [],
   "source": [
    "lky['round'] = lky['round'].str.replace(r\"3/4\", \"SF\")"
   ]
  },
  {
   "cell_type": "markdown",
   "id": "ca38c6b1",
   "metadata": {},
   "source": [
    "Because there is only one instance of R128, we will reclassify it as Group stage so that it is more meaningful for analysis subsequently."
   ]
  },
  {
   "cell_type": "code",
   "execution_count": 20,
   "id": "25851448",
   "metadata": {},
   "outputs": [],
   "source": [
    "lky['round'] = lky['round'].str.replace(r\"R128\", \"Group\")"
   ]
  },
  {
   "cell_type": "code",
   "execution_count": 21,
   "id": "1132b4cb",
   "metadata": {},
   "outputs": [
    {
     "data": {
      "text/plain": [
       "R32      56\n",
       "R16      46\n",
       "R64      44\n",
       "QF       25\n",
       "Group    22\n",
       "SF       16\n",
       "Final    14\n",
       "Name: round, dtype: int64"
      ]
     },
     "execution_count": 21,
     "metadata": {},
     "output_type": "execute_result"
    }
   ],
   "source": [
    "lky['round'].value_counts()"
   ]
  },
  {
   "cell_type": "markdown",
   "id": "06872e9a",
   "metadata": {},
   "source": [
    "## Investigating Match Time <a class=\"anchor\" id=\"section1.2\"></a>"
   ]
  },
  {
   "cell_type": "code",
   "execution_count": 22,
   "id": "40454d78",
   "metadata": {},
   "outputs": [],
   "source": [
    "lky['match_time'] = pd.to_datetime(lky['match_time'], format = '%H:%M')"
   ]
  },
  {
   "cell_type": "code",
   "execution_count": 23,
   "id": "a437ca48",
   "metadata": {},
   "outputs": [],
   "source": [
    "lky['match_time'] = lky['match_time'].apply(lambda x: x.minute + 60 if x.hour == 1 \n",
    "                              else x.minute)"
   ]
  },
  {
   "cell_type": "markdown",
   "id": "b871f08e",
   "metadata": {},
   "source": [
    "### Match time that are not realistic\n",
    "\n",
    "Realistically, a match time should not be less than five minutes, unless due to special circumstances such as early retirement, or a bye/walkover."
   ]
  },
  {
   "cell_type": "code",
   "execution_count": 24,
   "id": "0bd5131e",
   "metadata": {},
   "outputs": [
    {
     "data": {
      "text/html": [
       "<div>\n",
       "<style scoped>\n",
       "    .dataframe tbody tr th:only-of-type {\n",
       "        vertical-align: middle;\n",
       "    }\n",
       "\n",
       "    .dataframe tbody tr th {\n",
       "        vertical-align: top;\n",
       "    }\n",
       "\n",
       "    .dataframe thead th {\n",
       "        text-align: right;\n",
       "    }\n",
       "</style>\n",
       "<table border=\"1\" class=\"dataframe\">\n",
       "  <thead>\n",
       "    <tr style=\"text-align: right;\">\n",
       "      <th></th>\n",
       "      <th>year</th>\n",
       "      <th>tournament</th>\n",
       "      <th>round</th>\n",
       "      <th>match_time</th>\n",
       "      <th>player1</th>\n",
       "      <th>player2</th>\n",
       "      <th>player1_set1</th>\n",
       "      <th>player2_set1</th>\n",
       "      <th>player1_set2</th>\n",
       "      <th>player2_set2</th>\n",
       "      <th>player1_set3</th>\n",
       "      <th>player2_set3</th>\n",
       "    </tr>\n",
       "  </thead>\n",
       "  <tbody>\n",
       "    <tr>\n",
       "      <th>39</th>\n",
       "      <td>2019</td>\n",
       "      <td>30th SEA GAMES 2019 (Individual Event)</td>\n",
       "      <td>Final</td>\n",
       "      <td>0</td>\n",
       "      <td>LOH Kean Yew</td>\n",
       "      <td>LEE Zii Jia</td>\n",
       "      <td>NaN</td>\n",
       "      <td>NaN</td>\n",
       "      <td>NaN</td>\n",
       "      <td>NaN</td>\n",
       "      <td>NaN</td>\n",
       "      <td>NaN</td>\n",
       "    </tr>\n",
       "    <tr>\n",
       "      <th>47</th>\n",
       "      <td>2019</td>\n",
       "      <td>IDBI Federal Life Insurance Hyderabad Open 2019</td>\n",
       "      <td>R32</td>\n",
       "      <td>1</td>\n",
       "      <td>Sony Dwi KUNCORO</td>\n",
       "      <td>LOH Kean Yew</td>\n",
       "      <td>2</td>\n",
       "      <td>2</td>\n",
       "      <td>NaN</td>\n",
       "      <td>NaN</td>\n",
       "      <td>NaN</td>\n",
       "      <td>NaN</td>\n",
       "    </tr>\n",
       "    <tr>\n",
       "      <th>52</th>\n",
       "      <td>2019</td>\n",
       "      <td>Russian Open 2019</td>\n",
       "      <td>R64</td>\n",
       "      <td>0</td>\n",
       "      <td>LOH Kean Yew</td>\n",
       "      <td>Walkover/Bye</td>\n",
       "      <td>BYE</td>\n",
       "      <td>BYE</td>\n",
       "      <td>NaN</td>\n",
       "      <td>NaN</td>\n",
       "      <td>NaN</td>\n",
       "      <td>NaN</td>\n",
       "    </tr>\n",
       "    <tr>\n",
       "      <th>119</th>\n",
       "      <td>2018</td>\n",
       "      <td>Austrian Open 2018</td>\n",
       "      <td>R64</td>\n",
       "      <td>0</td>\n",
       "      <td>Joran KWEEKEL</td>\n",
       "      <td>LOH Kean Yew</td>\n",
       "      <td>NaN</td>\n",
       "      <td>NaN</td>\n",
       "      <td>NaN</td>\n",
       "      <td>NaN</td>\n",
       "      <td>NaN</td>\n",
       "      <td>NaN</td>\n",
       "    </tr>\n",
       "    <tr>\n",
       "      <th>168</th>\n",
       "      <td>2015</td>\n",
       "      <td>Kawasaki - Tran Local Foods Vietnam Internatio...</td>\n",
       "      <td>R64</td>\n",
       "      <td>0</td>\n",
       "      <td>LOH Kean Yew</td>\n",
       "      <td>Walkover/Bye</td>\n",
       "      <td>BYE</td>\n",
       "      <td>BYE</td>\n",
       "      <td>NaN</td>\n",
       "      <td>NaN</td>\n",
       "      <td>NaN</td>\n",
       "      <td>NaN</td>\n",
       "    </tr>\n",
       "    <tr>\n",
       "      <th>204</th>\n",
       "      <td>2014</td>\n",
       "      <td>USM International Series 2014</td>\n",
       "      <td>R32</td>\n",
       "      <td>0</td>\n",
       "      <td>LOH Kean Yew</td>\n",
       "      <td>Vero Wisnu Kusuma WARDANA</td>\n",
       "      <td>BYE</td>\n",
       "      <td>13</td>\n",
       "      <td>NaN</td>\n",
       "      <td>6.0</td>\n",
       "      <td>NaN</td>\n",
       "      <td>NaN</td>\n",
       "    </tr>\n",
       "    <tr>\n",
       "      <th>205</th>\n",
       "      <td>2014</td>\n",
       "      <td>USM International Series 2014</td>\n",
       "      <td>R64</td>\n",
       "      <td>0</td>\n",
       "      <td>LOH Kean Yew</td>\n",
       "      <td>Yobellto Rendy ISMANTO</td>\n",
       "      <td>BYE</td>\n",
       "      <td>14</td>\n",
       "      <td>NaN</td>\n",
       "      <td>15.0</td>\n",
       "      <td>NaN</td>\n",
       "      <td>NaN</td>\n",
       "    </tr>\n",
       "    <tr>\n",
       "      <th>206</th>\n",
       "      <td>2014</td>\n",
       "      <td>USM International Series 2014</td>\n",
       "      <td>R16</td>\n",
       "      <td>0</td>\n",
       "      <td>Senatria Agus SETIA PUTRA</td>\n",
       "      <td>LOH Kean Yew</td>\n",
       "      <td>21</td>\n",
       "      <td>NaN</td>\n",
       "      <td>13.0</td>\n",
       "      <td>NaN</td>\n",
       "      <td>21.0</td>\n",
       "      <td>NaN</td>\n",
       "    </tr>\n",
       "    <tr>\n",
       "      <th>215</th>\n",
       "      <td>2013</td>\n",
       "      <td>Prim-A Indonesia International Challenge 2013</td>\n",
       "      <td>R64</td>\n",
       "      <td>0</td>\n",
       "      <td>LOH Kean Yew</td>\n",
       "      <td>Jonatan CHRISTIE</td>\n",
       "      <td>BYE</td>\n",
       "      <td>21</td>\n",
       "      <td>NaN</td>\n",
       "      <td>19.0</td>\n",
       "      <td>NaN</td>\n",
       "      <td>21.0</td>\n",
       "    </tr>\n",
       "  </tbody>\n",
       "</table>\n",
       "</div>"
      ],
      "text/plain": [
       "     year                                         tournament  round  \\\n",
       "39   2019             30th SEA GAMES 2019 (Individual Event)  Final   \n",
       "47   2019    IDBI Federal Life Insurance Hyderabad Open 2019    R32   \n",
       "52   2019                                  Russian Open 2019    R64   \n",
       "119  2018                                 Austrian Open 2018    R64   \n",
       "168  2015  Kawasaki - Tran Local Foods Vietnam Internatio...    R64   \n",
       "204  2014                      USM International Series 2014    R32   \n",
       "205  2014                      USM International Series 2014    R64   \n",
       "206  2014                      USM International Series 2014    R16   \n",
       "215  2013      Prim-A Indonesia International Challenge 2013    R64   \n",
       "\n",
       "     match_time                    player1                    player2  \\\n",
       "39            0               LOH Kean Yew                LEE Zii Jia   \n",
       "47            1           Sony Dwi KUNCORO               LOH Kean Yew   \n",
       "52            0               LOH Kean Yew               Walkover/Bye   \n",
       "119           0              Joran KWEEKEL               LOH Kean Yew   \n",
       "168           0               LOH Kean Yew               Walkover/Bye   \n",
       "204           0               LOH Kean Yew  Vero Wisnu Kusuma WARDANA   \n",
       "205           0               LOH Kean Yew     Yobellto Rendy ISMANTO   \n",
       "206           0  Senatria Agus SETIA PUTRA               LOH Kean Yew   \n",
       "215           0               LOH Kean Yew           Jonatan CHRISTIE   \n",
       "\n",
       "    player1_set1 player2_set1  player1_set2  player2_set2  player1_set3  \\\n",
       "39           NaN          NaN           NaN           NaN           NaN   \n",
       "47             2            2           NaN           NaN           NaN   \n",
       "52         BYE          BYE             NaN           NaN           NaN   \n",
       "119          NaN          NaN           NaN           NaN           NaN   \n",
       "168        BYE          BYE             NaN           NaN           NaN   \n",
       "204        BYE             13           NaN           6.0           NaN   \n",
       "205        BYE             14           NaN          15.0           NaN   \n",
       "206           21          NaN          13.0           NaN          21.0   \n",
       "215        BYE             21           NaN          19.0           NaN   \n",
       "\n",
       "     player2_set3  \n",
       "39            NaN  \n",
       "47            NaN  \n",
       "52            NaN  \n",
       "119           NaN  \n",
       "168           NaN  \n",
       "204           NaN  \n",
       "205           NaN  \n",
       "206           NaN  \n",
       "215          21.0  "
      ]
     },
     "execution_count": 24,
     "metadata": {},
     "output_type": "execute_result"
    }
   ],
   "source": [
    "lky[lky['match_time'] < 5]"
   ]
  },
  {
   "cell_type": "markdown",
   "id": "a293c340",
   "metadata": {},
   "source": [
    "For the 30th SEA GAMES 2019, it is not typical that a final game is a bye/walkover. Upon further investigation, we found that the [game](https://en.wikipedia.org/wiki/Badminton_at_the_2019_Southeast_Asian_Games_%E2%80%93_Individual_event#Men's_singles) did take place and the match data was not captured in the BWF website. Loh Kean Yew lost the game in straight sets of (18-21, 18-21). We will update the score data manually, but were not able to find the match time.\n",
    "\n",
    "For the IDBI Federal Life Insurance Hyderabad Open 2019 [game](https://en.wikipedia.org/wiki/2019_Hyderabad_Open_(badminton)), it was an early retirement from the opponent. We will remove this match since it does not really represent Loh Kean Yew's performance.\n",
    "\n",
    "For the Austrian Open 2018, it was a walkover.\n",
    "\n",
    "For the USM International Series 2014 and Prim-A Indonesia International Challenge 2013, it is peculiar as it was listed as bye, but at the same time there were scores for the opponents. By referring to separate [website 1](https://bwf.tournamentsoftware.com/sport/player.aspx?id=735922B2-05F6-40AE-AF96-CBA5ED634A82&player=133) and [website 2](https://bwf.tournamentsoftware.com/sport/player.aspx?id=9E5D53EC-FF4F-438D-B06E-251A3B7A747F&player=110), we found that the match data were not recorded accurately on the BWF website. We will update the score data manually, but were not able to find the match time."
   ]
  },
  {
   "cell_type": "markdown",
   "id": "9beb7e36",
   "metadata": {},
   "source": [
    "### Removing Early Retirement Scores"
   ]
  },
  {
   "cell_type": "code",
   "execution_count": 25,
   "id": "7d36826a",
   "metadata": {},
   "outputs": [],
   "source": [
    "lky = lky.drop(index = 47)"
   ]
  },
  {
   "cell_type": "markdown",
   "id": "ccafe9c9",
   "metadata": {},
   "source": [
    "### Updating the Scores\n",
    "\n",
    "Earlier we noticed the peculiarity where there are set scores listed as bye, but at the same time there were scores for the opponents. By cross checking with other sources, we found that these were errors on the BWF website. We will cross reference and correct them manually.\n",
    "\n",
    "We will need to update and correct the scores first, as we will use it as a criteria for approximating match time."
   ]
  },
  {
   "cell_type": "code",
   "execution_count": 26,
   "id": "0682200c",
   "metadata": {},
   "outputs": [],
   "source": [
    "#define a function that can update the scores given a list\n",
    "def update_score(x):\n",
    "    index = x[0]\n",
    "    lky.loc[index, 'player1_set1'] = x[1]\n",
    "    lky.loc[index, 'player2_set1'] = x[2]\n",
    "    lky.loc[index, 'player1_set2'] = x[3]\n",
    "    lky.loc[index, 'player2_set2'] = x[4]\n",
    "    \n",
    "    #only update if there are third set scores\n",
    "    if len(x) > 5:\n",
    "        lky.loc[index, 'player1_set3'] = x[5]\n",
    "        lky.loc[index, 'player2_set3'] = x[6]"
   ]
  },
  {
   "cell_type": "code",
   "execution_count": 27,
   "id": "0ab3f0df",
   "metadata": {},
   "outputs": [],
   "source": [
    "scorelist_lzj = [39, '18', '21', '18', '21']\n",
    "scorelist_wardana = [204, '21', '13', '21', '6']\n",
    "scorelist_ismantao = [205, '21', '14', '21', '15']\n",
    "scorelist_senatria = [206, '21', '13', '13', '21', '21', '10']\n",
    "scorelist_christie = [215, '14', '21', '21', '19', '15', '21']\n",
    "\n",
    "update_score(scorelist_lzj)\n",
    "update_score(scorelist_wardana)\n",
    "update_score(scorelist_ismantao)\n",
    "update_score(scorelist_senatria)\n",
    "update_score(scorelist_christie)"
   ]
  },
  {
   "cell_type": "markdown",
   "id": "469f55ca",
   "metadata": {},
   "source": [
    "### Approximate the match time\n",
    "\n",
    "Since there is no match time available for some of the matches, we will use the other finals match time with similar scoreline (the closer the scoreline, the longer it takes due to back and forth) and the number of sets played (in general three sets will take longer than straight sets) to approximate."
   ]
  },
  {
   "cell_type": "code",
   "execution_count": 28,
   "id": "301098db",
   "metadata": {},
   "outputs": [],
   "source": [
    "#define a function to approximate the match time from other similar matches\n",
    "#referencing similar matches based on the number of sets played, the total scores across all the sets\n",
    "#as there may be limited matches with the same total scores, we will have a margin of plus minus 2\n",
    "def approx_matchtime(index):\n",
    "    \n",
    "    #three sets\n",
    "    if pd.notnull(lky.loc[index, 'player1_set3']):\n",
    "        sum_pts = lky.loc[index,'player1_set1':'player2_set3'].astype(int).sum()\n",
    "        third_sets = lky[(pd.notnull(lky['player1_set3'])) & (lky['match_time'] != 0)].copy()\n",
    "        third_sets.loc[:,'player1_set1':'player2_set3'] = third_sets.loc[:,'player1_set1':'player2_set3'].astype(int)\n",
    "        third_sets['total_pts'] = third_sets.loc[:,'player1_set1':'player2_set3'].sum(axis=1)\n",
    "        return round(third_sets[(third_sets['total_pts'] >= sum_pts-2) & \n",
    "                                (third_sets['total_pts'] <= sum_pts+2)]['match_time'].mean())\n",
    "    #two sets    \n",
    "    else:\n",
    "        sum_pts = lky.loc[index,'player1_set1':'player2_set2'].astype(int).sum()\n",
    "        two_sets = lky[(pd.isnull(lky['player1_set3'])) & (pd.notnull(lky['player1_set2'])) & (lky['match_time'] != 0)].copy()\n",
    "        two_sets.loc[:,'player1_set1':'player2_set2'] = two_sets.loc[:,'player1_set1':'player2_set2'].astype(int)\n",
    "        two_sets['total_pts'] = two_sets.loc[:,'player1_set1':'player2_set2'].sum(axis=1)\n",
    "        return round(two_sets[(two_sets['total_pts'] >= sum_pts-2) & \n",
    "                              (two_sets['total_pts'] <= sum_pts+2)]['match_time'].mean())"
   ]
  },
  {
   "cell_type": "code",
   "execution_count": 29,
   "id": "ed519d6e",
   "metadata": {},
   "outputs": [],
   "source": [
    "lky.loc[39, 'match_time'] = approx_matchtime(39)\n",
    "lky.loc[204, 'match_time'] = approx_matchtime(204)\n",
    "lky.loc[205, 'match_time'] = approx_matchtime(205)\n",
    "lky.loc[206, 'match_time'] = approx_matchtime(206)\n",
    "lky.loc[215, 'match_time'] = approx_matchtime(215)"
   ]
  },
  {
   "cell_type": "code",
   "execution_count": 30,
   "id": "af5df3b8",
   "metadata": {},
   "outputs": [
    {
     "name": "stdout",
     "output_type": "stream",
     "text": [
      "<class 'pandas.core.frame.DataFrame'>\n",
      "Int64Index: 222 entries, 0 to 222\n",
      "Data columns (total 12 columns):\n",
      " #   Column        Non-Null Count  Dtype \n",
      "---  ------        --------------  ----- \n",
      " 0   year          222 non-null    int64 \n",
      " 1   tournament    222 non-null    object\n",
      " 2   round         222 non-null    object\n",
      " 3   match_time    222 non-null    int64 \n",
      " 4   player1       222 non-null    object\n",
      " 5   player2       222 non-null    object\n",
      " 6   player1_set1  218 non-null    object\n",
      " 7   player2_set1  218 non-null    object\n",
      " 8   player1_set2  216 non-null    object\n",
      " 9   player2_set2  216 non-null    object\n",
      " 10  player1_set3  80 non-null     object\n",
      " 11  player2_set3  80 non-null     object\n",
      "dtypes: int64(2), object(10)\n",
      "memory usage: 30.6+ KB\n"
     ]
    }
   ],
   "source": [
    "lky.info()"
   ]
  },
  {
   "cell_type": "markdown",
   "id": "8de5be69",
   "metadata": {},
   "source": [
    "## Investigating Scores <a class=\"anchor\" id=\"section1.3\"></a>"
   ]
  },
  {
   "cell_type": "markdown",
   "id": "60d70b22",
   "metadata": {},
   "source": [
    "### Correcting bye/walkover scores"
   ]
  },
  {
   "cell_type": "code",
   "execution_count": 31,
   "id": "7345e5a6",
   "metadata": {},
   "outputs": [
    {
     "name": "stdout",
     "output_type": "stream",
     "text": [
      "['14' '4' '21' '15' '11' '7' '13' '17' '18' '19' '24' '12' '6' '22' '16'\n",
      " '9' 'BYE\\xa0\\xa0' '23' nan '10' '20' '8']\n"
     ]
    }
   ],
   "source": [
    "print(lky['player1_set1'].unique())"
   ]
  },
  {
   "cell_type": "markdown",
   "id": "13dc5bef",
   "metadata": {},
   "source": [
    "Here we see that some scores are indicated as 'BYE'. For consistency, we should replace them with `null` value."
   ]
  },
  {
   "cell_type": "code",
   "execution_count": 32,
   "id": "9ad7764f",
   "metadata": {},
   "outputs": [
    {
     "data": {
      "text/html": [
       "<div>\n",
       "<style scoped>\n",
       "    .dataframe tbody tr th:only-of-type {\n",
       "        vertical-align: middle;\n",
       "    }\n",
       "\n",
       "    .dataframe tbody tr th {\n",
       "        vertical-align: top;\n",
       "    }\n",
       "\n",
       "    .dataframe thead th {\n",
       "        text-align: right;\n",
       "    }\n",
       "</style>\n",
       "<table border=\"1\" class=\"dataframe\">\n",
       "  <thead>\n",
       "    <tr style=\"text-align: right;\">\n",
       "      <th></th>\n",
       "      <th>year</th>\n",
       "      <th>tournament</th>\n",
       "      <th>round</th>\n",
       "      <th>match_time</th>\n",
       "      <th>player1</th>\n",
       "      <th>player2</th>\n",
       "      <th>player1_set1</th>\n",
       "      <th>player2_set1</th>\n",
       "      <th>player1_set2</th>\n",
       "      <th>player2_set2</th>\n",
       "      <th>player1_set3</th>\n",
       "      <th>player2_set3</th>\n",
       "    </tr>\n",
       "  </thead>\n",
       "  <tbody>\n",
       "    <tr>\n",
       "      <th>52</th>\n",
       "      <td>2019</td>\n",
       "      <td>Russian Open 2019</td>\n",
       "      <td>R64</td>\n",
       "      <td>0</td>\n",
       "      <td>LOH Kean Yew</td>\n",
       "      <td>Walkover/Bye</td>\n",
       "      <td>BYE</td>\n",
       "      <td>BYE</td>\n",
       "      <td>NaN</td>\n",
       "      <td>NaN</td>\n",
       "      <td>NaN</td>\n",
       "      <td>NaN</td>\n",
       "    </tr>\n",
       "    <tr>\n",
       "      <th>168</th>\n",
       "      <td>2015</td>\n",
       "      <td>Kawasaki - Tran Local Foods Vietnam Internatio...</td>\n",
       "      <td>R64</td>\n",
       "      <td>0</td>\n",
       "      <td>LOH Kean Yew</td>\n",
       "      <td>Walkover/Bye</td>\n",
       "      <td>BYE</td>\n",
       "      <td>BYE</td>\n",
       "      <td>NaN</td>\n",
       "      <td>NaN</td>\n",
       "      <td>NaN</td>\n",
       "      <td>NaN</td>\n",
       "    </tr>\n",
       "  </tbody>\n",
       "</table>\n",
       "</div>"
      ],
      "text/plain": [
       "     year                                         tournament round  \\\n",
       "52   2019                                  Russian Open 2019   R64   \n",
       "168  2015  Kawasaki - Tran Local Foods Vietnam Internatio...   R64   \n",
       "\n",
       "     match_time       player1       player2 player1_set1 player2_set1  \\\n",
       "52            0  LOH Kean Yew  Walkover/Bye        BYE          BYE     \n",
       "168           0  LOH Kean Yew  Walkover/Bye        BYE          BYE     \n",
       "\n",
       "    player1_set2 player2_set2 player1_set3 player2_set3  \n",
       "52           NaN          NaN          NaN          NaN  \n",
       "168          NaN          NaN          NaN          NaN  "
      ]
     },
     "execution_count": 32,
     "metadata": {},
     "output_type": "execute_result"
    }
   ],
   "source": [
    "lky[(lky['player1_set1'] == 'BYE\\xa0\\xa0')]"
   ]
  },
  {
   "cell_type": "code",
   "execution_count": 33,
   "id": "814befff",
   "metadata": {},
   "outputs": [],
   "source": [
    "lky['player1_set1'].replace({'BYE\\xa0\\xa0':np.nan}, inplace=True)\n",
    "lky['player2_set1'].replace({'BYE\\xa0\\xa0':np.nan}, inplace=True)"
   ]
  },
  {
   "cell_type": "code",
   "execution_count": 34,
   "id": "440286af",
   "metadata": {},
   "outputs": [
    {
     "data": {
      "text/html": [
       "<div>\n",
       "<style scoped>\n",
       "    .dataframe tbody tr th:only-of-type {\n",
       "        vertical-align: middle;\n",
       "    }\n",
       "\n",
       "    .dataframe tbody tr th {\n",
       "        vertical-align: top;\n",
       "    }\n",
       "\n",
       "    .dataframe thead th {\n",
       "        text-align: right;\n",
       "    }\n",
       "</style>\n",
       "<table border=\"1\" class=\"dataframe\">\n",
       "  <thead>\n",
       "    <tr style=\"text-align: right;\">\n",
       "      <th></th>\n",
       "      <th>year</th>\n",
       "      <th>tournament</th>\n",
       "      <th>round</th>\n",
       "      <th>match_time</th>\n",
       "      <th>player1</th>\n",
       "      <th>player2</th>\n",
       "      <th>player1_set1</th>\n",
       "      <th>player2_set1</th>\n",
       "      <th>player1_set2</th>\n",
       "      <th>player2_set2</th>\n",
       "      <th>player1_set3</th>\n",
       "      <th>player2_set3</th>\n",
       "    </tr>\n",
       "  </thead>\n",
       "  <tbody>\n",
       "    <tr>\n",
       "      <th>52</th>\n",
       "      <td>2019</td>\n",
       "      <td>Russian Open 2019</td>\n",
       "      <td>R64</td>\n",
       "      <td>0</td>\n",
       "      <td>LOH Kean Yew</td>\n",
       "      <td>Walkover/Bye</td>\n",
       "      <td>NaN</td>\n",
       "      <td>NaN</td>\n",
       "      <td>NaN</td>\n",
       "      <td>NaN</td>\n",
       "      <td>NaN</td>\n",
       "      <td>NaN</td>\n",
       "    </tr>\n",
       "    <tr>\n",
       "      <th>119</th>\n",
       "      <td>2018</td>\n",
       "      <td>Austrian Open 2018</td>\n",
       "      <td>R64</td>\n",
       "      <td>0</td>\n",
       "      <td>Joran KWEEKEL</td>\n",
       "      <td>LOH Kean Yew</td>\n",
       "      <td>NaN</td>\n",
       "      <td>NaN</td>\n",
       "      <td>NaN</td>\n",
       "      <td>NaN</td>\n",
       "      <td>NaN</td>\n",
       "      <td>NaN</td>\n",
       "    </tr>\n",
       "    <tr>\n",
       "      <th>168</th>\n",
       "      <td>2015</td>\n",
       "      <td>Kawasaki - Tran Local Foods Vietnam Internatio...</td>\n",
       "      <td>R64</td>\n",
       "      <td>0</td>\n",
       "      <td>LOH Kean Yew</td>\n",
       "      <td>Walkover/Bye</td>\n",
       "      <td>NaN</td>\n",
       "      <td>NaN</td>\n",
       "      <td>NaN</td>\n",
       "      <td>NaN</td>\n",
       "      <td>NaN</td>\n",
       "      <td>NaN</td>\n",
       "    </tr>\n",
       "  </tbody>\n",
       "</table>\n",
       "</div>"
      ],
      "text/plain": [
       "     year                                         tournament round  \\\n",
       "52   2019                                  Russian Open 2019   R64   \n",
       "119  2018                                 Austrian Open 2018   R64   \n",
       "168  2015  Kawasaki - Tran Local Foods Vietnam Internatio...   R64   \n",
       "\n",
       "     match_time        player1       player2 player1_set1 player2_set1  \\\n",
       "52            0   LOH Kean Yew  Walkover/Bye          NaN          NaN   \n",
       "119           0  Joran KWEEKEL  LOH Kean Yew          NaN          NaN   \n",
       "168           0   LOH Kean Yew  Walkover/Bye          NaN          NaN   \n",
       "\n",
       "    player1_set2 player2_set2 player1_set3 player2_set3  \n",
       "52           NaN          NaN          NaN          NaN  \n",
       "119          NaN          NaN          NaN          NaN  \n",
       "168          NaN          NaN          NaN          NaN  "
      ]
     },
     "execution_count": 34,
     "metadata": {},
     "output_type": "execute_result"
    }
   ],
   "source": [
    "lky[lky['match_time'] == 0]"
   ]
  },
  {
   "cell_type": "markdown",
   "id": "dbd75729",
   "metadata": {},
   "source": [
    "### Removing Bye/Walkover scores"
   ]
  },
  {
   "cell_type": "code",
   "execution_count": 35,
   "id": "837298de",
   "metadata": {},
   "outputs": [],
   "source": [
    "lky = lky.drop(index = lky[lky['match_time'] == 0].index)"
   ]
  },
  {
   "cell_type": "markdown",
   "id": "6cd8ff56",
   "metadata": {},
   "source": [
    "### Investigating `null` scores\n",
    "\n",
    "We will check through matches to see if there are still `null` scores."
   ]
  },
  {
   "cell_type": "code",
   "execution_count": 36,
   "id": "f86efabe",
   "metadata": {},
   "outputs": [
    {
     "data": {
      "text/html": [
       "<div>\n",
       "<style scoped>\n",
       "    .dataframe tbody tr th:only-of-type {\n",
       "        vertical-align: middle;\n",
       "    }\n",
       "\n",
       "    .dataframe tbody tr th {\n",
       "        vertical-align: top;\n",
       "    }\n",
       "\n",
       "    .dataframe thead th {\n",
       "        text-align: right;\n",
       "    }\n",
       "</style>\n",
       "<table border=\"1\" class=\"dataframe\">\n",
       "  <thead>\n",
       "    <tr style=\"text-align: right;\">\n",
       "      <th></th>\n",
       "      <th>year</th>\n",
       "      <th>tournament</th>\n",
       "      <th>round</th>\n",
       "      <th>match_time</th>\n",
       "      <th>player1</th>\n",
       "      <th>player2</th>\n",
       "      <th>player1_set1</th>\n",
       "      <th>player2_set1</th>\n",
       "      <th>player1_set2</th>\n",
       "      <th>player2_set2</th>\n",
       "      <th>player1_set3</th>\n",
       "      <th>player2_set3</th>\n",
       "    </tr>\n",
       "  </thead>\n",
       "  <tbody>\n",
       "    <tr>\n",
       "      <th>200</th>\n",
       "      <td>2014</td>\n",
       "      <td>Astec Indonesia International Challenge 2014</td>\n",
       "      <td>R64</td>\n",
       "      <td>31</td>\n",
       "      <td>LOH Kean Yew</td>\n",
       "      <td>Bandar Sigit PAMUNGKAS</td>\n",
       "      <td>NaN</td>\n",
       "      <td>NaN</td>\n",
       "      <td>NaN</td>\n",
       "      <td>NaN</td>\n",
       "      <td>NaN</td>\n",
       "      <td>NaN</td>\n",
       "    </tr>\n",
       "    <tr>\n",
       "      <th>202</th>\n",
       "      <td>2014</td>\n",
       "      <td>Astec Indonesia International Challenge 2014</td>\n",
       "      <td>R16</td>\n",
       "      <td>50</td>\n",
       "      <td>Andre Kurniawan TEDJONO</td>\n",
       "      <td>LOH Kean Yew</td>\n",
       "      <td>NaN</td>\n",
       "      <td>NaN</td>\n",
       "      <td>NaN</td>\n",
       "      <td>NaN</td>\n",
       "      <td>NaN</td>\n",
       "      <td>NaN</td>\n",
       "    </tr>\n",
       "    <tr>\n",
       "      <th>203</th>\n",
       "      <td>2014</td>\n",
       "      <td>Astec Indonesia International Challenge 2014</td>\n",
       "      <td>QF</td>\n",
       "      <td>38</td>\n",
       "      <td>LOH Kean Yew</td>\n",
       "      <td>Jonatan CHRISTIE</td>\n",
       "      <td>NaN</td>\n",
       "      <td>NaN</td>\n",
       "      <td>NaN</td>\n",
       "      <td>NaN</td>\n",
       "      <td>NaN</td>\n",
       "      <td>NaN</td>\n",
       "    </tr>\n",
       "  </tbody>\n",
       "</table>\n",
       "</div>"
      ],
      "text/plain": [
       "     year                                    tournament round  match_time  \\\n",
       "200  2014  Astec Indonesia International Challenge 2014   R64          31   \n",
       "202  2014  Astec Indonesia International Challenge 2014   R16          50   \n",
       "203  2014  Astec Indonesia International Challenge 2014    QF          38   \n",
       "\n",
       "                     player1                 player2 player1_set1  \\\n",
       "200             LOH Kean Yew  Bandar Sigit PAMUNGKAS          NaN   \n",
       "202  Andre Kurniawan TEDJONO            LOH Kean Yew          NaN   \n",
       "203             LOH Kean Yew        Jonatan CHRISTIE          NaN   \n",
       "\n",
       "    player2_set1 player1_set2 player2_set2 player1_set3 player2_set3  \n",
       "200          NaN          NaN          NaN          NaN          NaN  \n",
       "202          NaN          NaN          NaN          NaN          NaN  \n",
       "203          NaN          NaN          NaN          NaN          NaN  "
      ]
     },
     "execution_count": 36,
     "metadata": {},
     "output_type": "execute_result"
    }
   ],
   "source": [
    "lky[pd.isnull(lky['player1_set1'])]"
   ]
  },
  {
   "cell_type": "markdown",
   "id": "7fc5a0fb",
   "metadata": {},
   "source": [
    "For Astec Indonesia International Challenge 2014, there are match time but no score. By checking the tournament [website](https://bwfbadminton.com/tournament/2175/astec-indonesia-international-challenge-2014) on BWF, we found that scores were indeed captured. But for this tournament, matches were played based on a system of 5 games to 11 points. This was an [experimental](https://en.wikipedia.org/wiki/Scoring_system_development_of_badminton#2014:_experimental_5_%C3%97_11_rally_point_system) system trialled in 2014 in lower-level tournaments. However, the scores were not captured from our web scrape script as it was coded to only capture scores for matches played up to three sets.\n",
    "\n",
    "We will hence remove tournament matches for such experimental system as it is not consistent with the rest of the data."
   ]
  },
  {
   "cell_type": "code",
   "execution_count": 37,
   "id": "3c40939a",
   "metadata": {},
   "outputs": [],
   "source": [
    "lky = lky.drop(index = lky[lky['tournament'] == 'Astec Indonesia International Challenge 2014'].index)"
   ]
  },
  {
   "cell_type": "markdown",
   "id": "c2e41e10",
   "metadata": {},
   "source": [
    "To check if there are other tournament matches using the experimental system, we could use the sum of scores for the first two sets to do a preliminary check.\n",
    "\n",
    "For straight sets, the minimum total score will be 42 (based on 21-0, 21-0). If the sum of scores for a normal match (unless bye/walkover/early retirement) is less than 42, then it raises some suspicion."
   ]
  },
  {
   "cell_type": "markdown",
   "id": "dbca4f9d",
   "metadata": {},
   "source": [
    "### Summing up scores"
   ]
  },
  {
   "cell_type": "code",
   "execution_count": 38,
   "id": "409a018c",
   "metadata": {},
   "outputs": [],
   "source": [
    "lky.loc[:, 'player1_set1':'player2_set3'] = lky.loc[:, 'player1_set1':'player2_set3'].astype(float)"
   ]
  },
  {
   "cell_type": "code",
   "execution_count": 39,
   "id": "d8fa5784",
   "metadata": {},
   "outputs": [],
   "source": [
    "#to decide later if want to fillna with 0\n",
    "#lky.loc[:, 'player1_set1':'player2_set3'] = lky.loc[:, 'player1_set1':'player2_set3'].fillna(0)"
   ]
  },
  {
   "cell_type": "code",
   "execution_count": 40,
   "id": "e234bc55",
   "metadata": {},
   "outputs": [],
   "source": [
    "lky['two_sets_score'] = lky.loc[:,'player1_set1':'player2_set2'].sum(axis=1).copy()"
   ]
  },
  {
   "cell_type": "code",
   "execution_count": 41,
   "id": "0977b904",
   "metadata": {},
   "outputs": [
    {
     "data": {
      "text/html": [
       "<div>\n",
       "<style scoped>\n",
       "    .dataframe tbody tr th:only-of-type {\n",
       "        vertical-align: middle;\n",
       "    }\n",
       "\n",
       "    .dataframe tbody tr th {\n",
       "        vertical-align: top;\n",
       "    }\n",
       "\n",
       "    .dataframe thead th {\n",
       "        text-align: right;\n",
       "    }\n",
       "</style>\n",
       "<table border=\"1\" class=\"dataframe\">\n",
       "  <thead>\n",
       "    <tr style=\"text-align: right;\">\n",
       "      <th></th>\n",
       "      <th>year</th>\n",
       "      <th>tournament</th>\n",
       "      <th>round</th>\n",
       "      <th>match_time</th>\n",
       "      <th>player1</th>\n",
       "      <th>player2</th>\n",
       "      <th>player1_set1</th>\n",
       "      <th>player2_set1</th>\n",
       "      <th>player1_set2</th>\n",
       "      <th>player2_set2</th>\n",
       "      <th>player1_set3</th>\n",
       "      <th>player2_set3</th>\n",
       "      <th>two_sets_score</th>\n",
       "    </tr>\n",
       "  </thead>\n",
       "  <tbody>\n",
       "    <tr>\n",
       "      <th>2</th>\n",
       "      <td>2021</td>\n",
       "      <td>TotalEnergies BWF World Championships 2021</td>\n",
       "      <td>R16</td>\n",
       "      <td>30</td>\n",
       "      <td>Kantaphon WANGCHAROEN</td>\n",
       "      <td>LOH Kean Yew</td>\n",
       "      <td>4.0</td>\n",
       "      <td>21.0</td>\n",
       "      <td>7.0</td>\n",
       "      <td>21.0</td>\n",
       "      <td>NaN</td>\n",
       "      <td>NaN</td>\n",
       "      <td>53.0</td>\n",
       "    </tr>\n",
       "  </tbody>\n",
       "</table>\n",
       "</div>"
      ],
      "text/plain": [
       "   year                                  tournament round  match_time  \\\n",
       "2  2021  TotalEnergies BWF World Championships 2021   R16          30   \n",
       "\n",
       "                 player1       player2  player1_set1  player2_set1  \\\n",
       "2  Kantaphon WANGCHAROEN  LOH Kean Yew           4.0          21.0   \n",
       "\n",
       "   player1_set2  player2_set2  player1_set3  player2_set3  two_sets_score  \n",
       "2           7.0          21.0           NaN           NaN            53.0  "
      ]
     },
     "execution_count": 41,
     "metadata": {},
     "output_type": "execute_result"
    }
   ],
   "source": [
    "lky[lky['two_sets_score'] < 54.0]"
   ]
  },
  {
   "cell_type": "markdown",
   "id": "560d6a0a",
   "metadata": {},
   "source": [
    "From the above, we can see that there are no other tournament matches using the experimental system of 5 games to 11 points."
   ]
  },
  {
   "cell_type": "markdown",
   "id": "133d060b",
   "metadata": {},
   "source": [
    "## Transform data to make Loh Kean Yew as Player 1 <a class=\"anchor\" id=\"section1.4\"></a>"
   ]
  },
  {
   "cell_type": "code",
   "execution_count": 42,
   "id": "8ab78769",
   "metadata": {},
   "outputs": [],
   "source": [
    "#swap LKY from player 2 to player 1, and the corresponding score\n",
    "m = (lky['player1'] != 'LOH Kean Yew')\n",
    "\n",
    "lky.loc[m, ['player1','player2']] = (lky.loc[m, ['player2','player1']].values)\n",
    "lky.loc[m, ['player1_set1','player2_set1']] = (lky.loc[m, ['player2_set1','player1_set1']].values)\n",
    "lky.loc[m, ['player1_set2','player2_set2']] = (lky.loc[m, ['player2_set2','player1_set2']].values)\n",
    "lky.loc[m, ['player1_set3','player2_set3']] = (lky.loc[m, ['player2_set3','player1_set3']].values)"
   ]
  },
  {
   "cell_type": "code",
   "execution_count": 43,
   "id": "de9b683a",
   "metadata": {
    "scrolled": true
   },
   "outputs": [
    {
     "data": {
      "text/html": [
       "<div>\n",
       "<style scoped>\n",
       "    .dataframe tbody tr th:only-of-type {\n",
       "        vertical-align: middle;\n",
       "    }\n",
       "\n",
       "    .dataframe tbody tr th {\n",
       "        vertical-align: top;\n",
       "    }\n",
       "\n",
       "    .dataframe thead th {\n",
       "        text-align: right;\n",
       "    }\n",
       "</style>\n",
       "<table border=\"1\" class=\"dataframe\">\n",
       "  <thead>\n",
       "    <tr style=\"text-align: right;\">\n",
       "      <th></th>\n",
       "      <th>year</th>\n",
       "      <th>tournament</th>\n",
       "      <th>round</th>\n",
       "      <th>match_time</th>\n",
       "      <th>player1</th>\n",
       "      <th>player2</th>\n",
       "      <th>player1_set1</th>\n",
       "      <th>player2_set1</th>\n",
       "      <th>player1_set2</th>\n",
       "      <th>player2_set2</th>\n",
       "      <th>player1_set3</th>\n",
       "      <th>player2_set3</th>\n",
       "      <th>two_sets_score</th>\n",
       "    </tr>\n",
       "  </thead>\n",
       "  <tbody>\n",
       "    <tr>\n",
       "      <th>216</th>\n",
       "      <td>2013</td>\n",
       "      <td>Li Ning Singapore Open 2013</td>\n",
       "      <td>R16</td>\n",
       "      <td>25</td>\n",
       "      <td>Kwan Ting Sean LEE</td>\n",
       "      <td>Mohd Razif ABDUL LATIF</td>\n",
       "      <td>13.0</td>\n",
       "      <td>21.0</td>\n",
       "      <td>16.0</td>\n",
       "      <td>21.0</td>\n",
       "      <td>NaN</td>\n",
       "      <td>NaN</td>\n",
       "      <td>71.0</td>\n",
       "    </tr>\n",
       "  </tbody>\n",
       "</table>\n",
       "</div>"
      ],
      "text/plain": [
       "     year                   tournament round  match_time             player1  \\\n",
       "216  2013  Li Ning Singapore Open 2013   R16          25  Kwan Ting Sean LEE   \n",
       "\n",
       "                    player2  player1_set1  player2_set1  player1_set2  \\\n",
       "216  Mohd Razif ABDUL LATIF          13.0          21.0          16.0   \n",
       "\n",
       "     player2_set2  player1_set3  player2_set3  two_sets_score  \n",
       "216          21.0           NaN           NaN            71.0  "
      ]
     },
     "execution_count": 43,
     "metadata": {},
     "output_type": "execute_result"
    }
   ],
   "source": [
    "lky[lky['player1'] != 'LOH Kean Yew']"
   ]
  },
  {
   "cell_type": "markdown",
   "id": "c0fb2c66",
   "metadata": {},
   "source": [
    "As we check if there the swap was done correctly and completely, we realised that there is this match data that does not belong to Loh Kean Yew. By checking the BWF website, we realised that this is a doubles match that Loh Kean Yew took part in. Since we are interested only in his singles performance, we will delete this match from the data."
   ]
  },
  {
   "cell_type": "code",
   "execution_count": 44,
   "id": "6ec297de",
   "metadata": {},
   "outputs": [],
   "source": [
    "lky = lky.drop(index = 216)"
   ]
  },
  {
   "cell_type": "markdown",
   "id": "051ca949",
   "metadata": {},
   "source": [
    "## Formatting Win/Lose data <a class=\"anchor\" id=\"section1.5\"></a>\n",
    "\n",
    "Given the set scores, we will include match win and lose data, so that we can easily analyze the performance. We will use 1 to indiate a win and 0 to indicate a loss."
   ]
  },
  {
   "cell_type": "code",
   "execution_count": 45,
   "id": "34829c25",
   "metadata": {},
   "outputs": [
    {
     "data": {
      "text/html": [
       "<div>\n",
       "<style scoped>\n",
       "    .dataframe tbody tr th:only-of-type {\n",
       "        vertical-align: middle;\n",
       "    }\n",
       "\n",
       "    .dataframe tbody tr th {\n",
       "        vertical-align: top;\n",
       "    }\n",
       "\n",
       "    .dataframe thead th {\n",
       "        text-align: right;\n",
       "    }\n",
       "</style>\n",
       "<table border=\"1\" class=\"dataframe\">\n",
       "  <thead>\n",
       "    <tr style=\"text-align: right;\">\n",
       "      <th></th>\n",
       "      <th>year</th>\n",
       "      <th>tournament</th>\n",
       "      <th>round</th>\n",
       "      <th>match_time</th>\n",
       "      <th>player1</th>\n",
       "      <th>player2</th>\n",
       "      <th>player1_set1</th>\n",
       "      <th>player2_set1</th>\n",
       "      <th>player1_set2</th>\n",
       "      <th>player2_set2</th>\n",
       "      <th>player1_set3</th>\n",
       "      <th>player2_set3</th>\n",
       "      <th>two_sets_score</th>\n",
       "    </tr>\n",
       "  </thead>\n",
       "  <tbody>\n",
       "    <tr>\n",
       "      <th>0</th>\n",
       "      <td>2021</td>\n",
       "      <td>TotalEnergies BWF World Championships 2021</td>\n",
       "      <td>R64</td>\n",
       "      <td>54</td>\n",
       "      <td>LOH Kean Yew</td>\n",
       "      <td>Viktor AXELSEN</td>\n",
       "      <td>14.0</td>\n",
       "      <td>21.0</td>\n",
       "      <td>21.0</td>\n",
       "      <td>9.0</td>\n",
       "      <td>21.0</td>\n",
       "      <td>6.0</td>\n",
       "      <td>65.0</td>\n",
       "    </tr>\n",
       "    <tr>\n",
       "      <th>1</th>\n",
       "      <td>2021</td>\n",
       "      <td>TotalEnergies BWF World Championships 2021</td>\n",
       "      <td>R32</td>\n",
       "      <td>25</td>\n",
       "      <td>LOH Kean Yew</td>\n",
       "      <td>Luka WRABER</td>\n",
       "      <td>21.0</td>\n",
       "      <td>4.0</td>\n",
       "      <td>21.0</td>\n",
       "      <td>8.0</td>\n",
       "      <td>NaN</td>\n",
       "      <td>NaN</td>\n",
       "      <td>54.0</td>\n",
       "    </tr>\n",
       "    <tr>\n",
       "      <th>2</th>\n",
       "      <td>2021</td>\n",
       "      <td>TotalEnergies BWF World Championships 2021</td>\n",
       "      <td>R16</td>\n",
       "      <td>30</td>\n",
       "      <td>LOH Kean Yew</td>\n",
       "      <td>Kantaphon WANGCHAROEN</td>\n",
       "      <td>21.0</td>\n",
       "      <td>4.0</td>\n",
       "      <td>21.0</td>\n",
       "      <td>7.0</td>\n",
       "      <td>NaN</td>\n",
       "      <td>NaN</td>\n",
       "      <td>53.0</td>\n",
       "    </tr>\n",
       "  </tbody>\n",
       "</table>\n",
       "</div>"
      ],
      "text/plain": [
       "   year                                  tournament round  match_time  \\\n",
       "0  2021  TotalEnergies BWF World Championships 2021   R64          54   \n",
       "1  2021  TotalEnergies BWF World Championships 2021   R32          25   \n",
       "2  2021  TotalEnergies BWF World Championships 2021   R16          30   \n",
       "\n",
       "        player1                player2  player1_set1  player2_set1  \\\n",
       "0  LOH Kean Yew         Viktor AXELSEN          14.0          21.0   \n",
       "1  LOH Kean Yew            Luka WRABER          21.0           4.0   \n",
       "2  LOH Kean Yew  Kantaphon WANGCHAROEN          21.0           4.0   \n",
       "\n",
       "   player1_set2  player2_set2  player1_set3  player2_set3  two_sets_score  \n",
       "0          21.0           9.0          21.0           6.0            65.0  \n",
       "1          21.0           8.0           NaN           NaN            54.0  \n",
       "2          21.0           7.0           NaN           NaN            53.0  "
      ]
     },
     "execution_count": 45,
     "metadata": {},
     "output_type": "execute_result"
    }
   ],
   "source": [
    "lky.head(3)"
   ]
  },
  {
   "cell_type": "code",
   "execution_count": 46,
   "id": "befeac81",
   "metadata": {},
   "outputs": [],
   "source": [
    "#calculate if the match is won or lost\n",
    "def win_lose(x):\n",
    "    if math.isnan(x[0]):\n",
    "        return np.nan\n",
    "    else:\n",
    "        if x[0] > x[1]:\n",
    "            return 1\n",
    "        else:\n",
    "            return 0"
   ]
  },
  {
   "cell_type": "code",
   "execution_count": 47,
   "id": "7e3cf7cc",
   "metadata": {},
   "outputs": [],
   "source": [
    "lky['set1'] = lky[['player1_set1', 'player2_set1']].apply(win_lose, axis=1)\n",
    "lky['set2'] = lky[['player1_set2', 'player2_set2']].apply(win_lose, axis=1)\n",
    "lky['set3'] = lky[['player1_set3', 'player2_set3']].apply(win_lose, axis=1)\n",
    "\n",
    "lky['result'] = lky.apply(lambda x: 1.0 if x[['set1','set2','set3']].sum() >= 2.0 else 0.0, axis=1)"
   ]
  },
  {
   "cell_type": "code",
   "execution_count": 48,
   "id": "6b3b84fb",
   "metadata": {},
   "outputs": [],
   "source": [
    "#calculate the total number of sets played\n",
    "def total_sets(x):\n",
    "    if math.isnan(x[0]):\n",
    "        return 0.0\n",
    "    elif math.isnan(x[1]):\n",
    "        return 1.0\n",
    "    elif math.isnan(x[2]):\n",
    "        return 2.0\n",
    "    else:\n",
    "        return 3.0"
   ]
  },
  {
   "cell_type": "code",
   "execution_count": 49,
   "id": "cfdb0f19",
   "metadata": {},
   "outputs": [],
   "source": [
    "lky['total_sets'] = lky[['player1_set1', 'player1_set2', 'player1_set3']].apply(total_sets, axis=1)"
   ]
  },
  {
   "cell_type": "markdown",
   "id": "4498ae77",
   "metadata": {},
   "source": [
    "## Performance Analysis <a class=\"anchor\" id=\"chapter2\"></a>"
   ]
  },
  {
   "cell_type": "markdown",
   "id": "7a17982c",
   "metadata": {},
   "source": [
    "### General Performance <a class=\"anchor\" id=\"section2.1\"></a>"
   ]
  },
  {
   "cell_type": "code",
   "execution_count": 50,
   "id": "e8bf1e93",
   "metadata": {},
   "outputs": [],
   "source": [
    "tourney_by_year = lky.groupby('year')['tournament'].nunique()"
   ]
  },
  {
   "cell_type": "code",
   "execution_count": 51,
   "id": "2e0be8ab",
   "metadata": {},
   "outputs": [],
   "source": [
    "matches_by_year =  lky['year'].value_counts().sort_index()"
   ]
  },
  {
   "cell_type": "code",
   "execution_count": 52,
   "id": "30ac73d2",
   "metadata": {},
   "outputs": [
    {
     "data": {
      "image/png": "[encoded data removed]",
      "text/plain": [
       "<Figure size 1008x288 with 2 Axes>"
      ]
     },
     "metadata": {},
     "output_type": "display_data"
    }
   ],
   "source": [
    "style.use('ggplot')\n",
    "fig, (ax1, ax2) = plt.subplots(nrows = 1, ncols = 2, figsize = (14,4))\n",
    "axes = [ax1, ax2]\n",
    "\n",
    "for ax in axes:\n",
    "    ax.set_xticks([2012, 2013, 2014, 2015, 2016, 2017, 2018, 2019, 2020, 2021])\n",
    "\n",
    "ax1.bar(tourney_by_year.index, tourney_by_year, color='#5a8db3')\n",
    "ax1.set_title('No. of Tournaments Participated Year-on-Year')\n",
    "\n",
    "ax2.bar(matches_by_year.index, matches_by_year, color='#5a8db3')\n",
    "ax2.set_title('No. of Matches Participated Year-on-Year')\n",
    "plt.show()"
   ]
  },
  {
   "cell_type": "code",
   "execution_count": 53,
   "id": "98b182a3",
   "metadata": {},
   "outputs": [
    {
     "data": {
      "text/plain": [
       "0.9320849506519309"
      ]
     },
     "execution_count": 53,
     "metadata": {},
     "output_type": "execute_result"
    }
   ],
   "source": [
    "tourney_by_year.corr(matches_by_year)"
   ]
  },
  {
   "cell_type": "code",
   "execution_count": 54,
   "id": "0c81c375",
   "metadata": {},
   "outputs": [],
   "source": [
    "#values to plot line of best fit\n",
    "m, b = np.polyfit(matches_by_year, tourney_by_year, 1)"
   ]
  },
  {
   "cell_type": "code",
   "execution_count": 55,
   "id": "eead0cff",
   "metadata": {},
   "outputs": [
    {
     "data": {
      "image/png": "[encoded data removed]",
      "text/plain": [
       "<Figure size 504x360 with 1 Axes>"
      ]
     },
     "metadata": {},
     "output_type": "display_data"
    }
   ],
   "source": [
    "style.use('ggplot')\n",
    "fig, ax = plt.subplots(figsize = (7,5))\n",
    "\n",
    "ax.set_xlim(0,55)\n",
    "ax.set_xlabel('No.of Matches')\n",
    "ax.set_ylim(0,18)\n",
    "ax.set_ylabel('No.of Tournaments')\n",
    "ax.scatter(matches_by_year, tourney_by_year, color='#5a8db3')\n",
    "\n",
    "ax.text(1, 1.5, '2012', fontsize = 8)\n",
    "ax.text(8.6, 7.5, '2013', fontsize = 8)\n",
    "ax.text(18, 6.8, '2014', fontsize = 8)\n",
    "ax.text(35.6, 15.5, '2015', fontsize = 8)\n",
    "ax.text(14.7, 8.5, '2016', fontsize = 8)\n",
    "ax.text(12.8, 4.5, '2017', fontsize = 8)\n",
    "ax.text(33.7, 9.5, '2018', fontsize = 8)\n",
    "ax.text(49.8, 16, '2019', fontsize = 8)\n",
    "ax.text(4.8, 4.4, '2020', fontsize = 8)\n",
    "ax.text(29, 10.5, '2021', fontsize = 8)\n",
    "\n",
    "ax.plot(matches_by_year, m*matches_by_year + b, linewidth = 1, alpha = 0.5, color = '#E24F39')\n",
    "\n",
    "ax.tick_params(axis='x')\n",
    "ax.tick_params(axis='y')\n",
    "\n",
    "plt.show()"
   ]
  },
  {
   "cell_type": "markdown",
   "id": "b02c6916",
   "metadata": {},
   "source": [
    "A simple hypothesis is that a player had performed better, if he had participated in more matches in any tournament (this means that the player had a deeper run into the tournament before elimination or eventually winning the final).\n",
    "\n",
    "By plotting a line of best fit over his career, we see that Loh Kean Yew had performed better in recent years, notably in 2017 and 2018 where he had deeper runs into tournaments."
   ]
  },
  {
   "cell_type": "code",
   "execution_count": 56,
   "id": "7b524951",
   "metadata": {},
   "outputs": [
    {
     "data": {
      "image/png": "[encoded data removed]",
      "text/plain": [
       "<Figure size 432x288 with 1 Axes>"
      ]
     },
     "metadata": {},
     "output_type": "display_data"
    }
   ],
   "source": [
    "sns.stripplot(x='year', y='round', data=lky, order=['Final','SF','QF', 'R16', 'R32', 'R64', 'Group'])\n",
    "plt.show()"
   ]
  },
  {
   "cell_type": "markdown",
   "id": "fc471107",
   "metadata": {},
   "source": [
    "### Wins and Losses <a class=\"anchor\" id=\"section2.2\"></a>"
   ]
  },
  {
   "cell_type": "markdown",
   "id": "3018108a",
   "metadata": {},
   "source": [
    "#### Win Rate (%) Year-on-Year"
   ]
  },
  {
   "cell_type": "code",
   "execution_count": 57,
   "id": "c99f90a3",
   "metadata": {},
   "outputs": [],
   "source": [
    "year_grouped = lky.groupby('year')"
   ]
  },
  {
   "cell_type": "code",
   "execution_count": 58,
   "id": "300c9bab",
   "metadata": {},
   "outputs": [],
   "source": [
    "winrate_by_year = year_grouped['result'].agg(sum) / year_grouped.size() * 100\n",
    "win = year_grouped['result'].agg(sum)\n",
    "lose = year_grouped.size() - year_grouped['result'].agg(sum)\n",
    "matches_by_year = year_grouped.size()"
   ]
  },
  {
   "cell_type": "code",
   "execution_count": 59,
   "id": "64ed3701",
   "metadata": {},
   "outputs": [
    {
     "data": {
      "image/png": "[encoded data removed]",
      "text/plain": [
       "<Figure size 504x288 with 1 Axes>"
      ]
     },
     "metadata": {},
     "output_type": "display_data"
    }
   ],
   "source": [
    "style.use('ggplot')\n",
    "fig, ax = plt.subplots(figsize = (7,4))\n",
    "\n",
    "ax.bar(winrate_by_year.index, winrate_by_year, color='#5a8db3')\n",
    "#ax.bar(winrate_by_year.index, winrate_by_year, color=['#001219','#005F73', '#0A9396', '#94D2BD', '#E9D8A6', '#e6c76e',\n",
    "                                                      #'#CA6702', '#BB3E03', '#AE2012', '#9B2226'])\n",
    "ax.set_xticks([2012, 2013, 2014, 2015, 2016, 2017, 2018, 2019, 2020, 2021])\n",
    "ax.set_yticks([0, 10, 20, 30, 40, 50, 60, 70, 80, 90, 100])\n",
    "\n",
    "ax.set_ylim(0,100)\n",
    "ax.set_title('Win Rate (%) Year-on-Year', fontweight=\"bold\")\n",
    "\n",
    "plt.show()"
   ]
  },
  {
   "cell_type": "markdown",
   "id": "28ccf087",
   "metadata": {},
   "source": [
    "Here we see that generally his win rate has been getting better over the years. "
   ]
  },
  {
   "cell_type": "markdown",
   "id": "5ec36fbb",
   "metadata": {},
   "source": [
    "#### Number of Wins and Losses Year-on-Year"
   ]
  },
  {
   "cell_type": "code",
   "execution_count": 60,
   "id": "3992283e",
   "metadata": {},
   "outputs": [
    {
     "data": {
      "image/png": "[encoded data removed]",
      "text/plain": [
       "<Figure size 504x288 with 1 Axes>"
      ]
     },
     "metadata": {},
     "output_type": "display_data"
    }
   ],
   "source": [
    "style.use('ggplot')\n",
    "fig, ax = plt.subplots(figsize = (7,4))\n",
    "\n",
    "ax.bar(winrate_by_year.index, win, label='Win', color='#5a8db3')\n",
    "ax.bar(winrate_by_year.index, lose, bottom=win, label='Loss', color='#b35a5a')\n",
    "\n",
    "ax.set_xticks([2012, 2013, 2014, 2015, 2016, 2017, 2018, 2019, 2020, 2021])\n",
    "ax.set_title('Number of Wins and Losses', fontweight='bold')\n",
    "ax.legend()\n",
    "\n",
    "plt.show()"
   ]
  },
  {
   "cell_type": "markdown",
   "id": "586bedd5",
   "metadata": {},
   "source": [
    "We notice that the number of matches had dipped in 2016 and 2017. This had coincided when Loh Kean Yew was serving his National Service. Interestingly, he had a high win rate in 2017. However, this could also be a function of the type of tournaments he had participated in that year.\n",
    "\n",
    "Unsurprisingly, there were very little matches played in 2020 due to the COVID-19 pandemic. 2021 had been one of the better years of win rate, and it is to be seen if his performance and form can be maintained."
   ]
  },
  {
   "cell_type": "markdown",
   "id": "8a3824ce",
   "metadata": {},
   "source": [
    "#### Number of Wins and Losses by Round"
   ]
  },
  {
   "cell_type": "code",
   "execution_count": 61,
   "id": "3e351e0c",
   "metadata": {},
   "outputs": [],
   "source": [
    "round_grouped = lky.groupby('round')"
   ]
  },
  {
   "cell_type": "code",
   "execution_count": 62,
   "id": "792afbf2",
   "metadata": {},
   "outputs": [],
   "source": [
    "winrate_by_round = (round_grouped['result'].agg(sum) / round_grouped.size() * 100).reindex(['Group','R64', 'R32', 'R16', 'QF', 'SF', 'Final'])\n",
    "win_round = round_grouped['result'].agg(sum).reindex(['Group','R64', 'R32', 'R16', 'QF', 'SF', 'Final'])\n",
    "lose_round = (round_grouped.size() - round_grouped['result'].agg(sum)).reindex(['Group','R64', 'R32', 'R16', 'QF', 'SF', 'Final'])"
   ]
  },
  {
   "cell_type": "code",
   "execution_count": 63,
   "id": "25094f16",
   "metadata": {},
   "outputs": [
    {
     "data": {
      "image/png": "[encoded data removed]",
      "text/plain": [
       "<Figure size 504x288 with 1 Axes>"
      ]
     },
     "metadata": {},
     "output_type": "display_data"
    }
   ],
   "source": [
    "style.use('ggplot')\n",
    "fig, ax = plt.subplots(figsize = (7,4))\n",
    "\n",
    "ax.bar(winrate_by_round.index, win_round, label='Win', color='#5a8db3')\n",
    "ax.bar(winrate_by_round.index, lose_round, bottom=win_round, label='Loss', color='#b35a5a')\n",
    "\n",
    "ax.set_title('Number of Wins and Losses', fontweight='bold')\n",
    "ax.legend()\n",
    "\n",
    "plt.show()"
   ]
  },
  {
   "cell_type": "markdown",
   "id": "dc464e56",
   "metadata": {},
   "source": [
    "From the above, we can see that Loh Kean Yew typically performs very well at the Semi-Final stage. On the other hand, he typically gets tripped up in the R32 and R64. Beyond which, he typically progresses further once he reaches the Quarter-Final stage.\n",
    "\n",
    "We also note that as not all tournaments start from the Group or R64 stage, the number of matches in the current round may not be equivalent to the number of wins in the previous round (e.g. total wins and losses in R16 is more than the number of wins in R32)."
   ]
  },
  {
   "cell_type": "code",
   "execution_count": 64,
   "id": "4f175135",
   "metadata": {},
   "outputs": [
    {
     "data": {
      "text/html": [
       "<div>\n",
       "<style scoped>\n",
       "    .dataframe tbody tr th:only-of-type {\n",
       "        vertical-align: middle;\n",
       "    }\n",
       "\n",
       "    .dataframe tbody tr th {\n",
       "        vertical-align: top;\n",
       "    }\n",
       "\n",
       "    .dataframe thead th {\n",
       "        text-align: right;\n",
       "    }\n",
       "</style>\n",
       "<table border=\"1\" class=\"dataframe\">\n",
       "  <thead>\n",
       "    <tr style=\"text-align: right;\">\n",
       "      <th></th>\n",
       "      <th>year</th>\n",
       "      <th>tournament</th>\n",
       "      <th>round</th>\n",
       "      <th>match_time</th>\n",
       "      <th>player1</th>\n",
       "      <th>player2</th>\n",
       "      <th>player1_set1</th>\n",
       "      <th>player2_set1</th>\n",
       "      <th>player1_set2</th>\n",
       "      <th>player2_set2</th>\n",
       "      <th>player1_set3</th>\n",
       "      <th>player2_set3</th>\n",
       "      <th>two_sets_score</th>\n",
       "      <th>set1</th>\n",
       "      <th>set2</th>\n",
       "      <th>set3</th>\n",
       "      <th>result</th>\n",
       "      <th>total_sets</th>\n",
       "    </tr>\n",
       "  </thead>\n",
       "  <tbody>\n",
       "    <tr>\n",
       "      <th>0</th>\n",
       "      <td>2021</td>\n",
       "      <td>TotalEnergies BWF World Championships 2021</td>\n",
       "      <td>R64</td>\n",
       "      <td>54</td>\n",
       "      <td>LOH Kean Yew</td>\n",
       "      <td>Viktor AXELSEN</td>\n",
       "      <td>14.0</td>\n",
       "      <td>21.0</td>\n",
       "      <td>21.0</td>\n",
       "      <td>9.0</td>\n",
       "      <td>21.0</td>\n",
       "      <td>6.0</td>\n",
       "      <td>65.0</td>\n",
       "      <td>0</td>\n",
       "      <td>1</td>\n",
       "      <td>1.0</td>\n",
       "      <td>1.0</td>\n",
       "      <td>3.0</td>\n",
       "    </tr>\n",
       "    <tr>\n",
       "      <th>1</th>\n",
       "      <td>2021</td>\n",
       "      <td>TotalEnergies BWF World Championships 2021</td>\n",
       "      <td>R32</td>\n",
       "      <td>25</td>\n",
       "      <td>LOH Kean Yew</td>\n",
       "      <td>Luka WRABER</td>\n",
       "      <td>21.0</td>\n",
       "      <td>4.0</td>\n",
       "      <td>21.0</td>\n",
       "      <td>8.0</td>\n",
       "      <td>NaN</td>\n",
       "      <td>NaN</td>\n",
       "      <td>54.0</td>\n",
       "      <td>1</td>\n",
       "      <td>1</td>\n",
       "      <td>NaN</td>\n",
       "      <td>1.0</td>\n",
       "      <td>2.0</td>\n",
       "    </tr>\n",
       "    <tr>\n",
       "      <th>2</th>\n",
       "      <td>2021</td>\n",
       "      <td>TotalEnergies BWF World Championships 2021</td>\n",
       "      <td>R16</td>\n",
       "      <td>30</td>\n",
       "      <td>LOH Kean Yew</td>\n",
       "      <td>Kantaphon WANGCHAROEN</td>\n",
       "      <td>21.0</td>\n",
       "      <td>4.0</td>\n",
       "      <td>21.0</td>\n",
       "      <td>7.0</td>\n",
       "      <td>NaN</td>\n",
       "      <td>NaN</td>\n",
       "      <td>53.0</td>\n",
       "      <td>1</td>\n",
       "      <td>1</td>\n",
       "      <td>NaN</td>\n",
       "      <td>1.0</td>\n",
       "      <td>2.0</td>\n",
       "    </tr>\n",
       "    <tr>\n",
       "      <th>3</th>\n",
       "      <td>2021</td>\n",
       "      <td>TotalEnergies BWF World Championships 2021</td>\n",
       "      <td>QF</td>\n",
       "      <td>43</td>\n",
       "      <td>LOH Kean Yew</td>\n",
       "      <td>PRANNOY H. S.</td>\n",
       "      <td>21.0</td>\n",
       "      <td>14.0</td>\n",
       "      <td>21.0</td>\n",
       "      <td>12.0</td>\n",
       "      <td>NaN</td>\n",
       "      <td>NaN</td>\n",
       "      <td>68.0</td>\n",
       "      <td>1</td>\n",
       "      <td>1</td>\n",
       "      <td>NaN</td>\n",
       "      <td>1.0</td>\n",
       "      <td>2.0</td>\n",
       "    </tr>\n",
       "    <tr>\n",
       "      <th>4</th>\n",
       "      <td>2021</td>\n",
       "      <td>TotalEnergies BWF World Championships 2021</td>\n",
       "      <td>SF</td>\n",
       "      <td>61</td>\n",
       "      <td>LOH Kean Yew</td>\n",
       "      <td>Anders ANTONSEN</td>\n",
       "      <td>23.0</td>\n",
       "      <td>21.0</td>\n",
       "      <td>21.0</td>\n",
       "      <td>14.0</td>\n",
       "      <td>NaN</td>\n",
       "      <td>NaN</td>\n",
       "      <td>79.0</td>\n",
       "      <td>1</td>\n",
       "      <td>1</td>\n",
       "      <td>NaN</td>\n",
       "      <td>1.0</td>\n",
       "      <td>2.0</td>\n",
       "    </tr>\n",
       "  </tbody>\n",
       "</table>\n",
       "</div>"
      ],
      "text/plain": [
       "   year                                  tournament round  match_time  \\\n",
       "0  2021  TotalEnergies BWF World Championships 2021   R64          54   \n",
       "1  2021  TotalEnergies BWF World Championships 2021   R32          25   \n",
       "2  2021  TotalEnergies BWF World Championships 2021   R16          30   \n",
       "3  2021  TotalEnergies BWF World Championships 2021    QF          43   \n",
       "4  2021  TotalEnergies BWF World Championships 2021    SF          61   \n",
       "\n",
       "        player1                player2  player1_set1  player2_set1  \\\n",
       "0  LOH Kean Yew         Viktor AXELSEN          14.0          21.0   \n",
       "1  LOH Kean Yew            Luka WRABER          21.0           4.0   \n",
       "2  LOH Kean Yew  Kantaphon WANGCHAROEN          21.0           4.0   \n",
       "3  LOH Kean Yew          PRANNOY H. S.          21.0          14.0   \n",
       "4  LOH Kean Yew        Anders ANTONSEN          23.0          21.0   \n",
       "\n",
       "   player1_set2  player2_set2  player1_set3  player2_set3  two_sets_score  \\\n",
       "0          21.0           9.0          21.0           6.0            65.0   \n",
       "1          21.0           8.0           NaN           NaN            54.0   \n",
       "2          21.0           7.0           NaN           NaN            53.0   \n",
       "3          21.0          12.0           NaN           NaN            68.0   \n",
       "4          21.0          14.0           NaN           NaN            79.0   \n",
       "\n",
       "   set1  set2  set3  result  total_sets  \n",
       "0     0     1   1.0     1.0         3.0  \n",
       "1     1     1   NaN     1.0         2.0  \n",
       "2     1     1   NaN     1.0         2.0  \n",
       "3     1     1   NaN     1.0         2.0  \n",
       "4     1     1   NaN     1.0         2.0  "
      ]
     },
     "execution_count": 64,
     "metadata": {},
     "output_type": "execute_result"
    }
   ],
   "source": [
    "lky.head()"
   ]
  },
  {
   "cell_type": "code",
   "execution_count": 65,
   "id": "2c6dd416",
   "metadata": {},
   "outputs": [
    {
     "data": {
      "text/plain": [
       "25"
      ]
     },
     "execution_count": 65,
     "metadata": {},
     "output_type": "execute_result"
    }
   ],
   "source": [
    "#win after dropping first set (lose-win-win)\n",
    "len(lky[(lky['set1'] == 0) & (lky['result'] == 1)])"
   ]
  },
  {
   "cell_type": "code",
   "execution_count": 66,
   "id": "2bf08794",
   "metadata": {},
   "outputs": [
    {
     "data": {
      "text/plain": [
       "57"
      ]
     },
     "execution_count": 66,
     "metadata": {},
     "output_type": "execute_result"
    }
   ],
   "source": [
    "#lose after dropping first set (lose-win-lose) and (lose-lose)\n",
    "len(lky[(lky['set1'] == 0) & (lky['result'] == 0)])"
   ]
  },
  {
   "cell_type": "code",
   "execution_count": 67,
   "id": "9cd21b52",
   "metadata": {},
   "outputs": [
    {
     "data": {
      "text/plain": [
       "17"
      ]
     },
     "execution_count": 67,
     "metadata": {},
     "output_type": "execute_result"
    }
   ],
   "source": [
    "#lose after winning first set (win-lose-lose)\n",
    "len(lky[(lky['set1'] == 1) & (lky['result'] == 0)])"
   ]
  },
  {
   "cell_type": "code",
   "execution_count": 68,
   "id": "5c40933c",
   "metadata": {},
   "outputs": [
    {
     "data": {
      "text/plain": [
       "115"
      ]
     },
     "execution_count": 68,
     "metadata": {},
     "output_type": "execute_result"
    }
   ],
   "source": [
    "#win after winning first set (win-win) and (win-lose-win)\n",
    "len(lky[(lky['set1'] == 1) & (lky['result'] == 1)])"
   ]
  },
  {
   "cell_type": "code",
   "execution_count": 69,
   "id": "5f97335b",
   "metadata": {},
   "outputs": [
    {
     "data": {
      "image/png": "[encoded data removed]",
      "text/plain": [
       "<Figure size 720x288 with 1 Axes>"
      ]
     },
     "metadata": {},
     "output_type": "display_data"
    }
   ],
   "source": [
    "style.use('ggplot')\n",
    "fig, ax = plt.subplots(figsize = (10,4), edgecolor='black')\n",
    "\n",
    "x = [1,2]\n",
    "y1 = [-57, -17]\n",
    "y2 = [25, 115]\n",
    "ax.barh(x, y1 , height = 0.5, color='#b35a5a')\n",
    "ax.barh(x, y2 , height = 0.5, left=50, color='#5a8db3')\n",
    "ax.set_xticklabels([])\n",
    "ax.tick_params(bottom=False, left=False)\n",
    "ax.set_yticklabels([])\n",
    "ax.set_xlim(-135,185)\n",
    "\n",
    "ax.text(18,2,'Win')\n",
    "ax.text(10 ,1.9,'First Set')\n",
    "\n",
    "ax.text(17,1,'Lose')\n",
    "ax.text(10 ,0.9,'First Set')\n",
    "\n",
    "ax.text(12 ,1.5,'Match', fontweight='bold', fontsize = 12)\n",
    "ax.text(11.8 ,1.38,'Result', fontweight='bold', fontsize = 12)\n",
    "\n",
    "ax.text(50 ,1.44,'WIN', fontweight='bold', fontsize = 14)\n",
    "ax.text(-25 ,1.44,'LOSE', fontweight='bold', fontsize = 14)\n",
    "\n",
    "#ax.text(145 ,1.98,'115', fontweight='bold', fontsize = 14)\n",
    "ax.text(52 ,1.98,'115', fontweight='bold', fontsize = 14)\n",
    "ax.text(-15 ,1.98,'17', fontweight='bold', fontsize = 14)\n",
    "\n",
    "ax.text(53 ,0.96,'25', fontweight='bold', fontsize = 14)\n",
    "ax.text(-15 ,0.96,'57', fontweight='bold', fontsize = 14)\n",
    "\n",
    "#ax.tick_params(axis='x', colors='white')\n",
    "#ax.tick_params(axis='y', colors='white')\n",
    "ax.set_title('Number of Wins and Losses', fontweight='bold')\n",
    "#ax.legend()\n",
    "ax.spines['left'].set_visible(False)\n",
    "ax.spines['right'].set_visible(False)\n",
    "ax.spines['top'].set_visible(False)\n",
    "ax.spines['bottom'].set_visible(False)\n",
    "plt.grid(visible=False)\n",
    "\n",
    "plt.show()"
   ]
  },
  {
   "attachments": {},
   "cell_type": "markdown",
   "id": "f11c7d2f",
   "metadata": {},
   "source": [
    "He has a good record (87%) of building on from taking the first set to win the match, and a decent chance (30%) of a comeback victory after dropping the first set."
   ]
  },
  {
   "cell_type": "code",
   "execution_count": 70,
   "id": "b8e9924a",
   "metadata": {},
   "outputs": [
    {
     "name": "stdout",
     "output_type": "stream",
     "text": [
      "[99, 16, 25, 36, 21, 17]\n"
     ]
    }
   ],
   "source": [
    "#different outcomes\n",
    "\n",
    "#win-win\n",
    "ww = len(lky[(lky['total_sets'] == 2.0) & (lky['result'] == 1.0)])\n",
    "\n",
    "#win-lose-win\n",
    "wlw = len(lky[(lky['set1'] == 1.0) & (lky['set2'] == 0.0) & (lky['result'] == 1.0)])\n",
    "\n",
    "#lose-win-win\n",
    "lww = len(lky[(lky['set1'] == 0.0) & (lky['result'] == 1.0)])\n",
    "\n",
    "#lose-lose\n",
    "#ll = len(lky[(lky['total_sets'] == 2.0) & (lky['result'] == 0)])\n",
    "ll = len(lky[(lky['set1'] == 0.0) & (lky['set2'] == 0.0)])\n",
    "\n",
    "#lose-win-lose\n",
    "lwl = len(lky[(lky['set1'] == 0.0) & (lky['set2'] == 1.0) & (lky['set3'] == 0.0)])\n",
    "\n",
    "#win-lose-lose\n",
    "wll = len(lky[(lky['set1'] == 1.0) & (lky['result'] == 0.0)])\n",
    "\n",
    "overall_result = [ww, wlw, lww, ll, lwl, wll]\n",
    "print(overall_result)"
   ]
  },
  {
   "cell_type": "code",
   "execution_count": 71,
   "id": "3c14275d",
   "metadata": {},
   "outputs": [
    {
     "data": {
      "image/png": "[encoded data removed]",
      "text/plain": [
       "<Figure size 576x288 with 1 Axes>"
      ]
     },
     "metadata": {},
     "output_type": "display_data"
    }
   ],
   "source": [
    "fig, ax = plt.subplots(figsize = (8,4))\n",
    "\n",
    "x_label = ['W-W', 'W-L-W', 'L-W-W', 'L-L', 'L-W-L', 'W-L-L']\n",
    "barlist = ax.bar(x = x_label, height=overall_result, color='#5a8db3', )\n",
    "\n",
    "barlist[3].set_color('#b35a5a')\n",
    "barlist[4].set_color('#b35a5a')\n",
    "barlist[5].set_color('#b35a5a')\n",
    "\n",
    "plt.ylabel('No. of Matches')\n",
    "ax.set_title('Match Outcome', fontweight='bold')\n",
    "ax.tick_params(axis='x')\n",
    "ax.tick_params(axis='y')\n",
    "\n",
    "plt.show()"
   ]
  },
  {
   "cell_type": "markdown",
   "id": "51a21981",
   "metadata": {},
   "source": [
    "He has a good record of getting the match wrapped up with straight sets victory."
   ]
  },
  {
   "cell_type": "markdown",
   "id": "c0c8ce12",
   "metadata": {},
   "source": [
    "## Conclusion <a class=\"anchor\" id=\"chapter3\"></a>\n",
    "\n",
    "As a first-level analysis, we can see that Loh Kean Yew had generally improved over the years. For further in-depth analysis, some of the other factors to consider:\n",
    "* Performance against top-rank players\n",
    "* Performance in different types of [tournaments](https://en.wikipedia.org/wiki/Badminton_World_Federation#Tournaments) (different grades and levels)\n",
    "* Comparing against other top players' performance"
   ]
  }
 ],
 "metadata": {
  "kernelspec": {
   "display_name": "Python 3",
   "language": "python",
   "name": "python3"
  },
  "language_info": {
   "codemirror_mode": {
    "name": "ipython",
    "version": 3
   },
   "file_extension": ".py",
   "mimetype": "text/x-python",
   "name": "python",
   "nbconvert_exporter": "python",
   "pygments_lexer": "ipython3",
   "version": "3.8.8"
  }
 },
 "nbformat": 4,
 "nbformat_minor": 5
}
